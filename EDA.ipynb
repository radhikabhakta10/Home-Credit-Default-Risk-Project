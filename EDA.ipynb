{
  "cells": [
    {
      "cell_type": "markdown",
      "metadata": {
        "id": "view-in-github",
        "colab_type": "text"
      },
      "source": [
        "<a href=\"https://colab.research.google.com/github/radhikabhakta10/Home-Credit-Default-Risk-Project/blob/main/EDA.ipynb\" target=\"_parent\"><img src=\"https://colab.research.google.com/assets/colab-badge.svg\" alt=\"Open In Colab\"/></a>"
      ]
    },
    {
      "cell_type": "markdown",
      "source": [
        "# Exploratory Data Analysis (EDA)\n",
        "\n",
        "Spencer Brothers (STAR Analytics)\n",
        "\n",
        "IS-6813 Spring 2025 - MSBA Capstone\n",
        "\n",
        "# Introduction\n",
        "\n",
        "The purpose of this notebook is to gain a deeper understanding of the data and how it can be used to address the business problem. Each section analyzing datasets will use the following structure:\n",
        "\n",
        "- Background of the dataset, how it's used in the business\n",
        "\n",
        "- A summary of the dataset's columns and missingness, any interesting features in the dataset\n",
        "\n",
        "- How the dataset can be used to answer Swire's questions about cart abandonment -  identify behavioral patterns that influence cart abandonment and recovery on MyCoke360\n",
        "\n",
        "These observations will inform how we process the data for analysis.\n",
        "\n",
        "I will do a more in-depth analysis for the visit_plan and material data.\n",
        "\n",
        "## Key Business Questions\n",
        "\n",
        "1. What behavioral events or sequence of events are the strongest predictors of cart abandonment?\n",
        "    - Define: Events or sequences of clicks, page visits, or time delays that most commonly lead to cart abandonment.\n",
        "    - Measure: Frequency and type of events before abandonment across sessions.\n",
        "\n",
        "2. What behaviors or conditions lead to a customer returning to complete a previously abandoned cart?\n",
        "    - Define: Recovery = Completed checkout after initial cart abandonment within X days.\n",
        "    - Measure: Recovery rate by user behavior / device.\n",
        "\n",
        "3. What happens after a cart is abandoned? Does the customer order through another method or churn?\n",
        "    - Define: Identify if customer orders via a different ordering method or becomes an inactive customer.\n",
        "    - Measure: Abandonment-to-alternative-method conversion rate.\n",
        "\n",
        "4. What is the financial impact of cart abandonment on total MyCoke360 revenue and product mix?\n",
        "    - Define: Estimate revenue lost from abandoned carts.\n",
        "    - Measure: $ value of products in abandoned carts vs. total revenue, by brand/pack type.\n",
        "\n",
        "5. Which products appear most frequently in abandoned carts?\n",
        "    - Define: Identify SKUs with high frequency in abandoned carts.\n",
        "    - Measure: Abandoned cart count and rate per material, by pack size/type, brand, flavor, etc.\n",
        "\n",
        "6. How does cart abandonment vary by device type and how can it be reduced?\n",
        "    - Define: Desktop vs. Mobile vs. App abandonment patterns.\n",
        "    - interface.\n",
        "\n",
        "## Important Definitions\n",
        "\n",
        "**Plant**: Which bottling facility the customer's products will be coming from.\n",
        "\n",
        "**Sales Office**: The location the customer orders from.\n",
        "\n",
        "- Note: Plant and sales office are used interchangeably.\n",
        "\n",
        "**Anchor day**: The day of week the customer must order by.\n",
        "\n",
        "**Anchor date**: The date the customer first ordered on when their policy started. The day of week\n",
        "of the anchor date is that customer’s anchor day.\n",
        "\n",
        "**Frequency**: How often a customer orders. Usually every 1, 2, or 4 weeks.\n",
        "\n",
        "**Cutoff time**: What time of day the customer’s order must be placed.\n",
        "\n",
        "**Order Window**: The period between two expected orders.\n",
        "\n",
        "## Known Data Limitations\n",
        "\n",
        "- GA does not capture all events. This is known because some order windows in the GA data do not have a purchase event. However, there is sometimes a purchase on myCoke360 in that order window in the orders table.\n",
        "\n",
        "- Missing purchase events is accounted for when determining abandoned carts by using the orders table.\n",
        "\n",
        "- There is a mismatch between add to cart items in GA, GA purchase items, and items in the orders table.\n",
        "\n",
        "- Items purchased are blank for mobile purchases.\n",
        "\n",
        "- Limitations for Purchase Tracking:\n",
        "\n",
        "    - Tracked cart contents do not always match the final purchased items, due to incomplete event data.\n",
        "    \n",
        "    - Purchase events recorded in Google Analytics do not always align with order records in the orders table.\n",
        "    \n",
        "    - Matching by date and account ID is unreliable, since customers sometimes place multiple orders through different channels on the same day.\n",
        "\n"
      ],
      "metadata": {
        "id": "DU6NAcLxbiv1"
      },
      "id": "DU6NAcLxbiv1"
    },
    {
      "cell_type": "markdown",
      "source": [
        "# Setup\n",
        "\n",
        "Data was provided by Swire's team and was copied to a personal drive. This notebook will mount drive in order to access that data\n"
      ],
      "metadata": {
        "id": "a3r37z6n3aI6"
      },
      "id": "a3r37z6n3aI6"
    },
    {
      "cell_type": "code",
      "source": [
        "# import necessary packages\n",
        "import pandas as pd\n",
        "import numpy as np\n",
        "import matplotlib.pyplot as plt\n",
        "import seaborn as sns"
      ],
      "metadata": {
        "id": "U2ZwjOvO3uQm"
      },
      "id": "U2ZwjOvO3uQm",
      "execution_count": 2,
      "outputs": []
    },
    {
      "cell_type": "code",
      "source": [
        "# mount to drive\n",
        "from google.colab import drive\n",
        "drive.mount('/content/drive')"
      ],
      "metadata": {
        "colab": {
          "base_uri": "https://localhost:8080/"
        },
        "id": "oXUnaMlU3qey",
        "outputId": "b3efad74-3e32-4a4c-b361-6b4c18aa5872"
      },
      "id": "oXUnaMlU3qey",
      "execution_count": null,
      "outputs": [
        {
          "output_type": "stream",
          "name": "stdout",
          "text": [
            "Mounted at /content/drive\n"
          ]
        }
      ]
    },
    {
      "cell_type": "code",
      "source": [
        "# define data folder within drive\n",
        "data_location = \"/content/drive/MyDrive/MSBA-Capstone-Fall-2025\""
      ],
      "metadata": {
        "id": "RgoMXHYV4reL"
      },
      "id": "RgoMXHYV4reL",
      "execution_count": null,
      "outputs": []
    },
    {
      "cell_type": "code",
      "source": [
        "# define a function that takes in a dataframe then outputs the dimensions and a count of null values in each column\n",
        "def structure_nulls(df):\n",
        "  print(\"DataFrame Dimensions:\")\n",
        "  print(df.shape)\n",
        "  print(\"\\nNull Value Counts per Column:\")\n",
        "  print(df.isnull().sum())"
      ],
      "metadata": {
        "id": "kmxGkTtk-t0O"
      },
      "id": "kmxGkTtk-t0O",
      "execution_count": null,
      "outputs": []
    },
    {
      "cell_type": "code",
      "source": [
        "# read in all datasets so our notebook doesn't break\n",
        "GA = pd.read_csv(f'{data_location}/google_analytics.csv')\n",
        "orders = pd.read_csv(f'{data_location}/orders.csv')\n",
        "sales = pd.read_csv(f'{data_location}/sales.csv')\n",
        "visit_plan = pd.read_csv(f'{data_location}/visit_plan.csv',\n",
        "                         dtype={'FREQUENCY':'string'})\n",
        "customer = pd.read_csv(f'{data_location}/customer.csv')\n",
        "cutoff_times = pd.read_csv(f'{data_location}/cutoff_times.csv')\n",
        "operating_hours = pd.read_csv(f'{data_location}/operating_hours.csv')\n",
        "material = pd.read_csv(f'{data_location}/material.csv')"
      ],
      "metadata": {
        "id": "7uoTCSN4t1Qo"
      },
      "id": "7uoTCSN4t1Qo",
      "execution_count": null,
      "outputs": []
    },
    {
      "cell_type": "markdown",
      "source": [
        "# Google Analytics\n",
        "\n",
        "This is a fact table that fives us data on website events on myCoke360. Each row represents a specific event such as a click. It logs the time, page, associated items, etc."
      ],
      "metadata": {
        "id": "R-fj0AXYAZM-"
      },
      "id": "R-fj0AXYAZM-"
    },
    {
      "cell_type": "code",
      "source": [
        "# view data\n",
        "GA.head()"
      ],
      "metadata": {
        "id": "aNzhHywHr6Z8"
      },
      "id": "aNzhHywHr6Z8",
      "execution_count": null,
      "outputs": []
    },
    {
      "cell_type": "code",
      "source": [
        "# read google analytics data into a pandas dataframe\n",
        "GA = pd.read_csv(f'{data_location}/google_analytics.csv')\n",
        "\n",
        "GA.head()"
      ],
      "metadata": {
        "id": "pZ8o4aSPAYuA"
      },
      "id": "pZ8o4aSPAYuA",
      "execution_count": null,
      "outputs": []
    },
    {
      "cell_type": "code",
      "source": [
        "# looking at missing data\n",
        "GA.isnull().sum()"
      ],
      "metadata": {
        "id": "DmLgi18dsAfA"
      },
      "id": "DmLgi18dsAfA",
      "execution_count": null,
      "outputs": []
    },
    {
      "cell_type": "code",
      "source": [
        "# number of rows and columns\n",
        "print(\"Shape of the dataset:\", GA.shape)\n",
        "print(f\"Number of rows: {GA.shape[0]}\")\n",
        "print(f\"Number of columns: {GA.shape[1]}\")"
      ],
      "metadata": {
        "id": "_kiqFz0lsEOw"
      },
      "id": "_kiqFz0lsEOw",
      "execution_count": null,
      "outputs": []
    },
    {
      "cell_type": "code",
      "source": [
        "# data types of each column\n",
        "print(\"\\nData types of each column:\")\n",
        "print(GA.dtypes)"
      ],
      "metadata": {
        "id": "xSHfVLy8sJgL"
      },
      "id": "xSHfVLy8sJgL",
      "execution_count": null,
      "outputs": []
    },
    {
      "cell_type": "markdown",
      "source": [
        "### Missing Data Discussion"
      ],
      "metadata": {
        "id": "jKDy8FNbsStz"
      },
      "id": "jKDy8FNbsStz"
    },
    {
      "cell_type": "markdown",
      "source": [
        "This table has about 3.7 million rows and 10 columns. In this dataset, there's structural missingness. There are null mobile brand names because a lot of activity done on desktop devices rather than mobile. The event page name and title columns also have a lot of missingness because some events, such as \"user_engagement\" don't have designated pages or the information of page name is present in the page title column and vice versa.\n",
        "\n",
        "Let's investigate what events there are"
      ],
      "metadata": {
        "id": "VGLeM9KHA74m"
      },
      "id": "VGLeM9KHA74m"
    },
    {
      "cell_type": "code",
      "source": [
        "# describing the data (summary stats)\n",
        "GA.describe(include='all').transpose()"
      ],
      "metadata": {
        "id": "JstXHtPzscE2"
      },
      "id": "JstXHtPzscE2",
      "execution_count": null,
      "outputs": []
    },
    {
      "cell_type": "code",
      "source": [
        "# changing time to UTC\n",
        "\n",
        "# convert EVENT_TIMESTAMP to datetime and ensure it’s in UTC\n",
        "GA['EVENT_TIMESTAMP'] = pd.to_datetime(GA['EVENT_TIMESTAMP'], utc=True)\n",
        "\n",
        "# ensure EVENT_DATE is in UTC format:\n",
        "GA['EVENT_DATE'] = pd.to_datetime(GA['EVENT_DATE'], utc=True)\n",
        "\n",
        "# verify conversion\n",
        "print(GA[['EVENT_DATE', 'EVENT_TIMESTAMP']].head())\n",
        "print(GA['EVENT_TIMESTAMP'].dt.tz)"
      ],
      "metadata": {
        "id": "AgURGdv7sekt"
      },
      "id": "AgURGdv7sekt",
      "execution_count": null,
      "outputs": []
    },
    {
      "cell_type": "code",
      "source": [
        "# double check time conversion\n",
        "GA.head()"
      ],
      "metadata": {
        "id": "S6tMB0v4sfDg"
      },
      "id": "S6tMB0v4sfDg",
      "execution_count": null,
      "outputs": []
    },
    {
      "cell_type": "code",
      "source": [
        "# how many event types occur overall per device cat\n",
        "GA['EVENT_NAME'].value_counts()\n",
        "GA.groupby('DEVICE_CATEGORY')['EVENT_NAME'].value_counts()"
      ],
      "metadata": {
        "id": "PIr_v8TBsgdb"
      },
      "id": "PIr_v8TBsgdb",
      "execution_count": null,
      "outputs": []
    },
    {
      "cell_type": "code",
      "source": [
        "# which device brands are most active\n",
        "GA.groupby('DEVICE_CATEGORY')['EVENT_NAME'].value_counts()\n",
        "GA.groupby('DEVICE_MOBILE_BRAND_NAME')['EVENT_NAME'].value_counts()"
      ],
      "metadata": {
        "id": "DbgN02JGsiEL"
      },
      "id": "DbgN02JGsiEL",
      "execution_count": null,
      "outputs": []
    },
    {
      "cell_type": "code",
      "source": [
        "# highest 5 events for each brand\n",
        "device_event_counts = GA.groupby('DEVICE_CATEGORY')['EVENT_NAME'].value_counts().reset_index(name='Count')\n",
        "device_event_counts.sort_values(['DEVICE_CATEGORY', 'Count'], ascending=[True, False], inplace=True)\n",
        "print(device_event_counts)"
      ],
      "metadata": {
        "id": "0hGg8pZQsl5w"
      },
      "id": "0hGg8pZQsl5w",
      "execution_count": null,
      "outputs": []
    },
    {
      "cell_type": "code",
      "source": [
        "# top 10 events per device category\n",
        "top_events = device_event_counts.groupby('DEVICE_CATEGORY').apply(lambda x: x.nlargest(10, 'Count')).reset_index(drop=True)\n",
        "\n",
        "# Plot\n",
        "plt.figure(figsize=(12,8))\n",
        "sb.barplot(data=top_events, x='Count', y='EVENT_NAME', hue='DEVICE_CATEGORY')\n",
        "plt.title('Top 10 Events per Device Category', fontsize=16)\n",
        "plt.xlabel('Event Count')\n",
        "plt.ylabel('Event Name')\n",
        "plt.legend(title='Device Category')\n",
        "plt.tight_layout()\n",
        "plt.show()"
      ],
      "metadata": {
        "id": "eXX6NRk1snZY"
      },
      "id": "eXX6NRk1snZY",
      "execution_count": null,
      "outputs": []
    },
    {
      "cell_type": "code",
      "source": [
        "# event distribution\n",
        "\n",
        "top_events = GA['EVENT_NAME'].value_counts().head(10)\n",
        "print(\"\\nTop 10 Event counts:\\n\", top_events)\n",
        "\n",
        "# Plot\n",
        "plt.figure(figsize=(10,6))\n",
        "sb.barplot(x=top_events.values, y=top_events.index, palette='coolwarm')\n",
        "plt.title(\"Top 10 Event Type Distribution\")\n",
        "plt.xlabel(\"Count\")\n",
        "plt.ylabel(\"Event Name\")\n",
        "plt.show()\n"
      ],
      "metadata": {
        "id": "XNbj0yMFspPD"
      },
      "id": "XNbj0yMFspPD",
      "execution_count": null,
      "outputs": []
    },
    {
      "cell_type": "markdown",
      "source": [
        "### Summarizing GA Data"
      ],
      "metadata": {
        "id": "rEP10Hmnssoc"
      },
      "id": "rEP10Hmnssoc"
    },
    {
      "cell_type": "markdown",
      "source": [
        "The Google Analytics dataset shows customer interaction and engagement data across different devices and event types. It includes over a million logged events, primarily from desktop users, who account for the majority of activity such as page views, button clicks, item views, and cart updates. Mobile and tablet devices also contribute, though at a smaller scale. The most frequent events are page_view (1,198,482), button_click (681,917), and view_item_list (558,466), indicating that users spend significant time browsing and interacting with products. Events like add_to_cart, update_cart, and proceed_to_checkout show strong shopping intent, while engagement events (user_engagement, screen_view) highlight ongoing user activity across sessions. Across devices, Google (desktop/Windows) and Apple (mobile/iOS) dominate usage, with smaller participation from brands like Samsung and Amazon."
      ],
      "metadata": {
        "id": "bC9p2sEesu6H"
      },
      "id": "bC9p2sEesu6H"
    },
    {
      "cell_type": "markdown",
      "source": [
        "# Orders\n",
        "\n",
        "This is a fact table that gives us  what items were ordered by\n",
        "which customer and when the order placed. However, orders are broken up such that each row will only have one material id. It's used to check the orders in Google Analytics (GA) data against what was actually ordered.\n",
        "\n",
        "\n"
      ],
      "metadata": {
        "id": "vj3bp4HF4q0y"
      },
      "id": "vj3bp4HF4q0y"
    },
    {
      "cell_type": "code",
      "source": [
        "# read orders into a pandas dataframe.\n",
        "orders = pd.read_csv(f'{data_location}/orders.csv')\n",
        "\n",
        "orders.head()"
      ],
      "metadata": {
        "id": "fW-UsuBB96Ry"
      },
      "id": "fW-UsuBB96Ry",
      "execution_count": null,
      "outputs": []
    },
    {
      "cell_type": "code",
      "source": [
        "orders.describe()"
      ],
      "metadata": {
        "id": "tk9vk4f-ke0P"
      },
      "id": "tk9vk4f-ke0P",
      "execution_count": null,
      "outputs": []
    },
    {
      "cell_type": "code",
      "source": [
        "structure_nulls(orders)"
      ],
      "metadata": {
        "id": "dy5cRsQl_xT1"
      },
      "id": "dy5cRsQl_xT1",
      "execution_count": null,
      "outputs": []
    },
    {
      "cell_type": "markdown",
      "source": [
        "# Sales\n",
        "\n",
        "This fact table gives us which items were sold. These items are slightly different than orders due to items being sometimes sold out. This table is used to compute revenue using NSI_DEAD_NET."
      ],
      "metadata": {
        "id": "F3s8ZqRFM-A1"
      },
      "id": "F3s8ZqRFM-A1"
    },
    {
      "cell_type": "code",
      "source": [
        "display(sales.describe())"
      ],
      "metadata": {
        "id": "BmJt_Of5ZbQx",
        "outputId": "60e0bd46-c42d-4f0e-effc-a4d71bc141ba",
        "colab": {
          "base_uri": "https://localhost:8080/",
          "height": 300
        }
      },
      "id": "BmJt_Of5ZbQx",
      "execution_count": null,
      "outputs": [
        {
          "output_type": "display_data",
          "data": {
            "text/plain": [
              "        CUSTOMER_ID    MATERIAL_ID  GROSS_PROFIT_DEAD_NET  PHYSICAL_VOLUME  \\\n",
              "count  4.997870e+05  499787.000000          499787.000000    499787.000000   \n",
              "mean   5.430889e+08  148828.482618              71.258057         6.779922   \n",
              "std    4.892893e+07   75610.369930             206.914366        22.583076   \n",
              "min    5.002457e+08  100722.000000           -5911.500000         1.042000   \n",
              "25%    5.012676e+08  116149.000000              16.750000         2.000000   \n",
              "50%    5.016566e+08  129252.000000              32.120000         2.000000   \n",
              "75%    6.000796e+08  151817.000000              58.660000         4.000000   \n",
              "max    6.009753e+08  700462.000000           16797.210000      2000.000000   \n",
              "\n",
              "        NSI_DEAD_NET  \n",
              "count  499787.000000  \n",
              "mean      179.207562  \n",
              "std       565.228753  \n",
              "min      -201.600000  \n",
              "25%        49.350000  \n",
              "50%        76.680000  \n",
              "75%       141.000000  \n",
              "max     61614.000000  "
            ],
            "text/html": [
              "\n",
              "  <div id=\"df-a6aec5f0-8422-4d19-9f4d-23190bd6bdee\" class=\"colab-df-container\">\n",
              "    <div>\n",
              "<style scoped>\n",
              "    .dataframe tbody tr th:only-of-type {\n",
              "        vertical-align: middle;\n",
              "    }\n",
              "\n",
              "    .dataframe tbody tr th {\n",
              "        vertical-align: top;\n",
              "    }\n",
              "\n",
              "    .dataframe thead th {\n",
              "        text-align: right;\n",
              "    }\n",
              "</style>\n",
              "<table border=\"1\" class=\"dataframe\">\n",
              "  <thead>\n",
              "    <tr style=\"text-align: right;\">\n",
              "      <th></th>\n",
              "      <th>CUSTOMER_ID</th>\n",
              "      <th>MATERIAL_ID</th>\n",
              "      <th>GROSS_PROFIT_DEAD_NET</th>\n",
              "      <th>PHYSICAL_VOLUME</th>\n",
              "      <th>NSI_DEAD_NET</th>\n",
              "    </tr>\n",
              "  </thead>\n",
              "  <tbody>\n",
              "    <tr>\n",
              "      <th>count</th>\n",
              "      <td>4.997870e+05</td>\n",
              "      <td>499787.000000</td>\n",
              "      <td>499787.000000</td>\n",
              "      <td>499787.000000</td>\n",
              "      <td>499787.000000</td>\n",
              "    </tr>\n",
              "    <tr>\n",
              "      <th>mean</th>\n",
              "      <td>5.430889e+08</td>\n",
              "      <td>148828.482618</td>\n",
              "      <td>71.258057</td>\n",
              "      <td>6.779922</td>\n",
              "      <td>179.207562</td>\n",
              "    </tr>\n",
              "    <tr>\n",
              "      <th>std</th>\n",
              "      <td>4.892893e+07</td>\n",
              "      <td>75610.369930</td>\n",
              "      <td>206.914366</td>\n",
              "      <td>22.583076</td>\n",
              "      <td>565.228753</td>\n",
              "    </tr>\n",
              "    <tr>\n",
              "      <th>min</th>\n",
              "      <td>5.002457e+08</td>\n",
              "      <td>100722.000000</td>\n",
              "      <td>-5911.500000</td>\n",
              "      <td>1.042000</td>\n",
              "      <td>-201.600000</td>\n",
              "    </tr>\n",
              "    <tr>\n",
              "      <th>25%</th>\n",
              "      <td>5.012676e+08</td>\n",
              "      <td>116149.000000</td>\n",
              "      <td>16.750000</td>\n",
              "      <td>2.000000</td>\n",
              "      <td>49.350000</td>\n",
              "    </tr>\n",
              "    <tr>\n",
              "      <th>50%</th>\n",
              "      <td>5.016566e+08</td>\n",
              "      <td>129252.000000</td>\n",
              "      <td>32.120000</td>\n",
              "      <td>2.000000</td>\n",
              "      <td>76.680000</td>\n",
              "    </tr>\n",
              "    <tr>\n",
              "      <th>75%</th>\n",
              "      <td>6.000796e+08</td>\n",
              "      <td>151817.000000</td>\n",
              "      <td>58.660000</td>\n",
              "      <td>4.000000</td>\n",
              "      <td>141.000000</td>\n",
              "    </tr>\n",
              "    <tr>\n",
              "      <th>max</th>\n",
              "      <td>6.009753e+08</td>\n",
              "      <td>700462.000000</td>\n",
              "      <td>16797.210000</td>\n",
              "      <td>2000.000000</td>\n",
              "      <td>61614.000000</td>\n",
              "    </tr>\n",
              "  </tbody>\n",
              "</table>\n",
              "</div>\n",
              "    <div class=\"colab-df-buttons\">\n",
              "\n",
              "  <div class=\"colab-df-container\">\n",
              "    <button class=\"colab-df-convert\" onclick=\"convertToInteractive('df-a6aec5f0-8422-4d19-9f4d-23190bd6bdee')\"\n",
              "            title=\"Convert this dataframe to an interactive table.\"\n",
              "            style=\"display:none;\">\n",
              "\n",
              "  <svg xmlns=\"http://www.w3.org/2000/svg\" height=\"24px\" viewBox=\"0 -960 960 960\">\n",
              "    <path d=\"M120-120v-720h720v720H120Zm60-500h600v-160H180v160Zm220 220h160v-160H400v160Zm0 220h160v-160H400v160ZM180-400h160v-160H180v160Zm440 0h160v-160H620v160ZM180-180h160v-160H180v160Zm440 0h160v-160H620v160Z\"/>\n",
              "  </svg>\n",
              "    </button>\n",
              "\n",
              "  <style>\n",
              "    .colab-df-container {\n",
              "      display:flex;\n",
              "      gap: 12px;\n",
              "    }\n",
              "\n",
              "    .colab-df-convert {\n",
              "      background-color: #E8F0FE;\n",
              "      border: none;\n",
              "      border-radius: 50%;\n",
              "      cursor: pointer;\n",
              "      display: none;\n",
              "      fill: #1967D2;\n",
              "      height: 32px;\n",
              "      padding: 0 0 0 0;\n",
              "      width: 32px;\n",
              "    }\n",
              "\n",
              "    .colab-df-convert:hover {\n",
              "      background-color: #E2EBFA;\n",
              "      box-shadow: 0px 1px 2px rgba(60, 64, 67, 0.3), 0px 1px 3px 1px rgba(60, 64, 67, 0.15);\n",
              "      fill: #174EA6;\n",
              "    }\n",
              "\n",
              "    .colab-df-buttons div {\n",
              "      margin-bottom: 4px;\n",
              "    }\n",
              "\n",
              "    [theme=dark] .colab-df-convert {\n",
              "      background-color: #3B4455;\n",
              "      fill: #D2E3FC;\n",
              "    }\n",
              "\n",
              "    [theme=dark] .colab-df-convert:hover {\n",
              "      background-color: #434B5C;\n",
              "      box-shadow: 0px 1px 3px 1px rgba(0, 0, 0, 0.15);\n",
              "      filter: drop-shadow(0px 1px 2px rgba(0, 0, 0, 0.3));\n",
              "      fill: #FFFFFF;\n",
              "    }\n",
              "  </style>\n",
              "\n",
              "    <script>\n",
              "      const buttonEl =\n",
              "        document.querySelector('#df-a6aec5f0-8422-4d19-9f4d-23190bd6bdee button.colab-df-convert');\n",
              "      buttonEl.style.display =\n",
              "        google.colab.kernel.accessAllowed ? 'block' : 'none';\n",
              "\n",
              "      async function convertToInteractive(key) {\n",
              "        const element = document.querySelector('#df-a6aec5f0-8422-4d19-9f4d-23190bd6bdee');\n",
              "        const dataTable =\n",
              "          await google.colab.kernel.invokeFunction('convertToInteractive',\n",
              "                                                    [key], {});\n",
              "        if (!dataTable) return;\n",
              "\n",
              "        const docLinkHtml = 'Like what you see? Visit the ' +\n",
              "          '<a target=\"_blank\" href=https://colab.research.google.com/notebooks/data_table.ipynb>data table notebook</a>'\n",
              "          + ' to learn more about interactive tables.';\n",
              "        element.innerHTML = '';\n",
              "        dataTable['output_type'] = 'display_data';\n",
              "        await google.colab.output.renderOutput(dataTable, element);\n",
              "        const docLink = document.createElement('div');\n",
              "        docLink.innerHTML = docLinkHtml;\n",
              "        element.appendChild(docLink);\n",
              "      }\n",
              "    </script>\n",
              "  </div>\n",
              "\n",
              "\n",
              "    <div id=\"df-b1eaa8d5-dad0-442a-8f42-9629eb0b9edf\">\n",
              "      <button class=\"colab-df-quickchart\" onclick=\"quickchart('df-b1eaa8d5-dad0-442a-8f42-9629eb0b9edf')\"\n",
              "                title=\"Suggest charts\"\n",
              "                style=\"display:none;\">\n",
              "\n",
              "<svg xmlns=\"http://www.w3.org/2000/svg\" height=\"24px\"viewBox=\"0 0 24 24\"\n",
              "     width=\"24px\">\n",
              "    <g>\n",
              "        <path d=\"M19 3H5c-1.1 0-2 .9-2 2v14c0 1.1.9 2 2 2h14c1.1 0 2-.9 2-2V5c0-1.1-.9-2-2-2zM9 17H7v-7h2v7zm4 0h-2V7h2v10zm4 0h-2v-4h2v4z\"/>\n",
              "    </g>\n",
              "</svg>\n",
              "      </button>\n",
              "\n",
              "<style>\n",
              "  .colab-df-quickchart {\n",
              "      --bg-color: #E8F0FE;\n",
              "      --fill-color: #1967D2;\n",
              "      --hover-bg-color: #E2EBFA;\n",
              "      --hover-fill-color: #174EA6;\n",
              "      --disabled-fill-color: #AAA;\n",
              "      --disabled-bg-color: #DDD;\n",
              "  }\n",
              "\n",
              "  [theme=dark] .colab-df-quickchart {\n",
              "      --bg-color: #3B4455;\n",
              "      --fill-color: #D2E3FC;\n",
              "      --hover-bg-color: #434B5C;\n",
              "      --hover-fill-color: #FFFFFF;\n",
              "      --disabled-bg-color: #3B4455;\n",
              "      --disabled-fill-color: #666;\n",
              "  }\n",
              "\n",
              "  .colab-df-quickchart {\n",
              "    background-color: var(--bg-color);\n",
              "    border: none;\n",
              "    border-radius: 50%;\n",
              "    cursor: pointer;\n",
              "    display: none;\n",
              "    fill: var(--fill-color);\n",
              "    height: 32px;\n",
              "    padding: 0;\n",
              "    width: 32px;\n",
              "  }\n",
              "\n",
              "  .colab-df-quickchart:hover {\n",
              "    background-color: var(--hover-bg-color);\n",
              "    box-shadow: 0 1px 2px rgba(60, 64, 67, 0.3), 0 1px 3px 1px rgba(60, 64, 67, 0.15);\n",
              "    fill: var(--button-hover-fill-color);\n",
              "  }\n",
              "\n",
              "  .colab-df-quickchart-complete:disabled,\n",
              "  .colab-df-quickchart-complete:disabled:hover {\n",
              "    background-color: var(--disabled-bg-color);\n",
              "    fill: var(--disabled-fill-color);\n",
              "    box-shadow: none;\n",
              "  }\n",
              "\n",
              "  .colab-df-spinner {\n",
              "    border: 2px solid var(--fill-color);\n",
              "    border-color: transparent;\n",
              "    border-bottom-color: var(--fill-color);\n",
              "    animation:\n",
              "      spin 1s steps(1) infinite;\n",
              "  }\n",
              "\n",
              "  @keyframes spin {\n",
              "    0% {\n",
              "      border-color: transparent;\n",
              "      border-bottom-color: var(--fill-color);\n",
              "      border-left-color: var(--fill-color);\n",
              "    }\n",
              "    20% {\n",
              "      border-color: transparent;\n",
              "      border-left-color: var(--fill-color);\n",
              "      border-top-color: var(--fill-color);\n",
              "    }\n",
              "    30% {\n",
              "      border-color: transparent;\n",
              "      border-left-color: var(--fill-color);\n",
              "      border-top-color: var(--fill-color);\n",
              "      border-right-color: var(--fill-color);\n",
              "    }\n",
              "    40% {\n",
              "      border-color: transparent;\n",
              "      border-right-color: var(--fill-color);\n",
              "      border-top-color: var(--fill-color);\n",
              "    }\n",
              "    60% {\n",
              "      border-color: transparent;\n",
              "      border-right-color: var(--fill-color);\n",
              "    }\n",
              "    80% {\n",
              "      border-color: transparent;\n",
              "      border-right-color: var(--fill-color);\n",
              "      border-bottom-color: var(--fill-color);\n",
              "    }\n",
              "    90% {\n",
              "      border-color: transparent;\n",
              "      border-bottom-color: var(--fill-color);\n",
              "    }\n",
              "  }\n",
              "</style>\n",
              "\n",
              "      <script>\n",
              "        async function quickchart(key) {\n",
              "          const quickchartButtonEl =\n",
              "            document.querySelector('#' + key + ' button');\n",
              "          quickchartButtonEl.disabled = true;  // To prevent multiple clicks.\n",
              "          quickchartButtonEl.classList.add('colab-df-spinner');\n",
              "          try {\n",
              "            const charts = await google.colab.kernel.invokeFunction(\n",
              "                'suggestCharts', [key], {});\n",
              "          } catch (error) {\n",
              "            console.error('Error during call to suggestCharts:', error);\n",
              "          }\n",
              "          quickchartButtonEl.classList.remove('colab-df-spinner');\n",
              "          quickchartButtonEl.classList.add('colab-df-quickchart-complete');\n",
              "        }\n",
              "        (() => {\n",
              "          let quickchartButtonEl =\n",
              "            document.querySelector('#df-b1eaa8d5-dad0-442a-8f42-9629eb0b9edf button');\n",
              "          quickchartButtonEl.style.display =\n",
              "            google.colab.kernel.accessAllowed ? 'block' : 'none';\n",
              "        })();\n",
              "      </script>\n",
              "    </div>\n",
              "\n",
              "    </div>\n",
              "  </div>\n"
            ],
            "application/vnd.google.colaboratory.intrinsic+json": {
              "type": "dataframe",
              "summary": "{\n  \"name\": \"display(sales\",\n  \"rows\": 8,\n  \"fields\": [\n    {\n      \"column\": \"CUSTOMER_ID\",\n      \"properties\": {\n        \"dtype\": \"number\",\n        \"std\": 242963003.20272076,\n        \"min\": 499787.0,\n        \"max\": 600975280.0,\n        \"num_unique_values\": 8,\n        \"samples\": [\n          543088877.9471215,\n          501656558.0,\n          499787.0\n        ],\n        \"semantic_type\": \"\",\n        \"description\": \"\"\n      }\n    },\n    {\n      \"column\": \"MATERIAL_ID\",\n      \"properties\": {\n        \"dtype\": \"number\",\n        \"std\": 229791.4160234179,\n        \"min\": 75610.36992970409,\n        \"max\": 700462.0,\n        \"num_unique_values\": 8,\n        \"samples\": [\n          148828.4826175951,\n          129252.0,\n          499787.0\n        ],\n        \"semantic_type\": \"\",\n        \"description\": \"\"\n      }\n    },\n    {\n      \"column\": \"GROSS_PROFIT_DEAD_NET\",\n      \"properties\": {\n        \"dtype\": \"number\",\n        \"std\": 176253.30898457387,\n        \"min\": -5911.5,\n        \"max\": 499787.0,\n        \"num_unique_values\": 8,\n        \"samples\": [\n          71.25805679219346,\n          32.12,\n          499787.0\n        ],\n        \"semantic_type\": \"\",\n        \"description\": \"\"\n      }\n    },\n    {\n      \"column\": \"PHYSICAL_VOLUME\",\n      \"properties\": {\n        \"dtype\": \"number\",\n        \"std\": 176599.8114431437,\n        \"min\": 1.042,\n        \"max\": 499787.0,\n        \"num_unique_values\": 7,\n        \"samples\": [\n          499787.0,\n          6.779922446962406,\n          4.0\n        ],\n        \"semantic_type\": \"\",\n        \"description\": \"\"\n      }\n    },\n    {\n      \"column\": \"NSI_DEAD_NET\",\n      \"properties\": {\n        \"dtype\": \"number\",\n        \"std\": 174876.94388886399,\n        \"min\": -201.6,\n        \"max\": 499787.0,\n        \"num_unique_values\": 8,\n        \"samples\": [\n          179.2075616612677,\n          76.68,\n          499787.0\n        ],\n        \"semantic_type\": \"\",\n        \"description\": \"\"\n      }\n    }\n  ]\n}"
            }
          },
          "metadata": {}
        }
      ]
    },
    {
      "cell_type": "code",
      "source": [
        "sales.head()"
      ],
      "metadata": {
        "id": "owxe11E8NN-U",
        "outputId": "0ee43f38-4428-4a90-b712-ec43a7c4e53c",
        "colab": {
          "base_uri": "https://localhost:8080/",
          "height": 206
        }
      },
      "id": "owxe11E8NN-U",
      "execution_count": null,
      "outputs": [
        {
          "output_type": "execute_result",
          "data": {
            "text/plain": [
              "   CUSTOMER_ID POSTING_DATE  MATERIAL_ID  GROSS_PROFIT_DEAD_NET  \\\n",
              "0    600055574    7/17/2024       144775                 130.68   \n",
              "1    600055574    7/17/2024       156082                  37.42   \n",
              "2    501438989    7/17/2024       144775                  41.84   \n",
              "3    600055574    7/17/2024       154914                  53.24   \n",
              "4    600055574    7/17/2024       156182                 110.30   \n",
              "\n",
              "   PHYSICAL_VOLUME  NSI_DEAD_NET  \n",
              "0             22.0        737.00  \n",
              "1              6.0        105.42  \n",
              "2              4.0        166.40  \n",
              "3              4.0        123.88  \n",
              "4             10.0        348.80  "
            ],
            "text/html": [
              "\n",
              "  <div id=\"df-9497786c-4500-4965-bc45-1839bc723966\" class=\"colab-df-container\">\n",
              "    <div>\n",
              "<style scoped>\n",
              "    .dataframe tbody tr th:only-of-type {\n",
              "        vertical-align: middle;\n",
              "    }\n",
              "\n",
              "    .dataframe tbody tr th {\n",
              "        vertical-align: top;\n",
              "    }\n",
              "\n",
              "    .dataframe thead th {\n",
              "        text-align: right;\n",
              "    }\n",
              "</style>\n",
              "<table border=\"1\" class=\"dataframe\">\n",
              "  <thead>\n",
              "    <tr style=\"text-align: right;\">\n",
              "      <th></th>\n",
              "      <th>CUSTOMER_ID</th>\n",
              "      <th>POSTING_DATE</th>\n",
              "      <th>MATERIAL_ID</th>\n",
              "      <th>GROSS_PROFIT_DEAD_NET</th>\n",
              "      <th>PHYSICAL_VOLUME</th>\n",
              "      <th>NSI_DEAD_NET</th>\n",
              "    </tr>\n",
              "  </thead>\n",
              "  <tbody>\n",
              "    <tr>\n",
              "      <th>0</th>\n",
              "      <td>600055574</td>\n",
              "      <td>7/17/2024</td>\n",
              "      <td>144775</td>\n",
              "      <td>130.68</td>\n",
              "      <td>22.0</td>\n",
              "      <td>737.00</td>\n",
              "    </tr>\n",
              "    <tr>\n",
              "      <th>1</th>\n",
              "      <td>600055574</td>\n",
              "      <td>7/17/2024</td>\n",
              "      <td>156082</td>\n",
              "      <td>37.42</td>\n",
              "      <td>6.0</td>\n",
              "      <td>105.42</td>\n",
              "    </tr>\n",
              "    <tr>\n",
              "      <th>2</th>\n",
              "      <td>501438989</td>\n",
              "      <td>7/17/2024</td>\n",
              "      <td>144775</td>\n",
              "      <td>41.84</td>\n",
              "      <td>4.0</td>\n",
              "      <td>166.40</td>\n",
              "    </tr>\n",
              "    <tr>\n",
              "      <th>3</th>\n",
              "      <td>600055574</td>\n",
              "      <td>7/17/2024</td>\n",
              "      <td>154914</td>\n",
              "      <td>53.24</td>\n",
              "      <td>4.0</td>\n",
              "      <td>123.88</td>\n",
              "    </tr>\n",
              "    <tr>\n",
              "      <th>4</th>\n",
              "      <td>600055574</td>\n",
              "      <td>7/17/2024</td>\n",
              "      <td>156182</td>\n",
              "      <td>110.30</td>\n",
              "      <td>10.0</td>\n",
              "      <td>348.80</td>\n",
              "    </tr>\n",
              "  </tbody>\n",
              "</table>\n",
              "</div>\n",
              "    <div class=\"colab-df-buttons\">\n",
              "\n",
              "  <div class=\"colab-df-container\">\n",
              "    <button class=\"colab-df-convert\" onclick=\"convertToInteractive('df-9497786c-4500-4965-bc45-1839bc723966')\"\n",
              "            title=\"Convert this dataframe to an interactive table.\"\n",
              "            style=\"display:none;\">\n",
              "\n",
              "  <svg xmlns=\"http://www.w3.org/2000/svg\" height=\"24px\" viewBox=\"0 -960 960 960\">\n",
              "    <path d=\"M120-120v-720h720v720H120Zm60-500h600v-160H180v160Zm220 220h160v-160H400v160Zm0 220h160v-160H400v160ZM180-400h160v-160H180v160Zm440 0h160v-160H620v160ZM180-180h160v-160H180v160Zm440 0h160v-160H620v160Z\"/>\n",
              "  </svg>\n",
              "    </button>\n",
              "\n",
              "  <style>\n",
              "    .colab-df-container {\n",
              "      display:flex;\n",
              "      gap: 12px;\n",
              "    }\n",
              "\n",
              "    .colab-df-convert {\n",
              "      background-color: #E8F0FE;\n",
              "      border: none;\n",
              "      border-radius: 50%;\n",
              "      cursor: pointer;\n",
              "      display: none;\n",
              "      fill: #1967D2;\n",
              "      height: 32px;\n",
              "      padding: 0 0 0 0;\n",
              "      width: 32px;\n",
              "    }\n",
              "\n",
              "    .colab-df-convert:hover {\n",
              "      background-color: #E2EBFA;\n",
              "      box-shadow: 0px 1px 2px rgba(60, 64, 67, 0.3), 0px 1px 3px 1px rgba(60, 64, 67, 0.15);\n",
              "      fill: #174EA6;\n",
              "    }\n",
              "\n",
              "    .colab-df-buttons div {\n",
              "      margin-bottom: 4px;\n",
              "    }\n",
              "\n",
              "    [theme=dark] .colab-df-convert {\n",
              "      background-color: #3B4455;\n",
              "      fill: #D2E3FC;\n",
              "    }\n",
              "\n",
              "    [theme=dark] .colab-df-convert:hover {\n",
              "      background-color: #434B5C;\n",
              "      box-shadow: 0px 1px 3px 1px rgba(0, 0, 0, 0.15);\n",
              "      filter: drop-shadow(0px 1px 2px rgba(0, 0, 0, 0.3));\n",
              "      fill: #FFFFFF;\n",
              "    }\n",
              "  </style>\n",
              "\n",
              "    <script>\n",
              "      const buttonEl =\n",
              "        document.querySelector('#df-9497786c-4500-4965-bc45-1839bc723966 button.colab-df-convert');\n",
              "      buttonEl.style.display =\n",
              "        google.colab.kernel.accessAllowed ? 'block' : 'none';\n",
              "\n",
              "      async function convertToInteractive(key) {\n",
              "        const element = document.querySelector('#df-9497786c-4500-4965-bc45-1839bc723966');\n",
              "        const dataTable =\n",
              "          await google.colab.kernel.invokeFunction('convertToInteractive',\n",
              "                                                    [key], {});\n",
              "        if (!dataTable) return;\n",
              "\n",
              "        const docLinkHtml = 'Like what you see? Visit the ' +\n",
              "          '<a target=\"_blank\" href=https://colab.research.google.com/notebooks/data_table.ipynb>data table notebook</a>'\n",
              "          + ' to learn more about interactive tables.';\n",
              "        element.innerHTML = '';\n",
              "        dataTable['output_type'] = 'display_data';\n",
              "        await google.colab.output.renderOutput(dataTable, element);\n",
              "        const docLink = document.createElement('div');\n",
              "        docLink.innerHTML = docLinkHtml;\n",
              "        element.appendChild(docLink);\n",
              "      }\n",
              "    </script>\n",
              "  </div>\n",
              "\n",
              "\n",
              "    <div id=\"df-481602ed-bc2c-4115-a148-15f0a7de89d2\">\n",
              "      <button class=\"colab-df-quickchart\" onclick=\"quickchart('df-481602ed-bc2c-4115-a148-15f0a7de89d2')\"\n",
              "                title=\"Suggest charts\"\n",
              "                style=\"display:none;\">\n",
              "\n",
              "<svg xmlns=\"http://www.w3.org/2000/svg\" height=\"24px\"viewBox=\"0 0 24 24\"\n",
              "     width=\"24px\">\n",
              "    <g>\n",
              "        <path d=\"M19 3H5c-1.1 0-2 .9-2 2v14c0 1.1.9 2 2 2h14c1.1 0 2-.9 2-2V5c0-1.1-.9-2-2-2zM9 17H7v-7h2v7zm4 0h-2V7h2v10zm4 0h-2v-4h2v4z\"/>\n",
              "    </g>\n",
              "</svg>\n",
              "      </button>\n",
              "\n",
              "<style>\n",
              "  .colab-df-quickchart {\n",
              "      --bg-color: #E8F0FE;\n",
              "      --fill-color: #1967D2;\n",
              "      --hover-bg-color: #E2EBFA;\n",
              "      --hover-fill-color: #174EA6;\n",
              "      --disabled-fill-color: #AAA;\n",
              "      --disabled-bg-color: #DDD;\n",
              "  }\n",
              "\n",
              "  [theme=dark] .colab-df-quickchart {\n",
              "      --bg-color: #3B4455;\n",
              "      --fill-color: #D2E3FC;\n",
              "      --hover-bg-color: #434B5C;\n",
              "      --hover-fill-color: #FFFFFF;\n",
              "      --disabled-bg-color: #3B4455;\n",
              "      --disabled-fill-color: #666;\n",
              "  }\n",
              "\n",
              "  .colab-df-quickchart {\n",
              "    background-color: var(--bg-color);\n",
              "    border: none;\n",
              "    border-radius: 50%;\n",
              "    cursor: pointer;\n",
              "    display: none;\n",
              "    fill: var(--fill-color);\n",
              "    height: 32px;\n",
              "    padding: 0;\n",
              "    width: 32px;\n",
              "  }\n",
              "\n",
              "  .colab-df-quickchart:hover {\n",
              "    background-color: var(--hover-bg-color);\n",
              "    box-shadow: 0 1px 2px rgba(60, 64, 67, 0.3), 0 1px 3px 1px rgba(60, 64, 67, 0.15);\n",
              "    fill: var(--button-hover-fill-color);\n",
              "  }\n",
              "\n",
              "  .colab-df-quickchart-complete:disabled,\n",
              "  .colab-df-quickchart-complete:disabled:hover {\n",
              "    background-color: var(--disabled-bg-color);\n",
              "    fill: var(--disabled-fill-color);\n",
              "    box-shadow: none;\n",
              "  }\n",
              "\n",
              "  .colab-df-spinner {\n",
              "    border: 2px solid var(--fill-color);\n",
              "    border-color: transparent;\n",
              "    border-bottom-color: var(--fill-color);\n",
              "    animation:\n",
              "      spin 1s steps(1) infinite;\n",
              "  }\n",
              "\n",
              "  @keyframes spin {\n",
              "    0% {\n",
              "      border-color: transparent;\n",
              "      border-bottom-color: var(--fill-color);\n",
              "      border-left-color: var(--fill-color);\n",
              "    }\n",
              "    20% {\n",
              "      border-color: transparent;\n",
              "      border-left-color: var(--fill-color);\n",
              "      border-top-color: var(--fill-color);\n",
              "    }\n",
              "    30% {\n",
              "      border-color: transparent;\n",
              "      border-left-color: var(--fill-color);\n",
              "      border-top-color: var(--fill-color);\n",
              "      border-right-color: var(--fill-color);\n",
              "    }\n",
              "    40% {\n",
              "      border-color: transparent;\n",
              "      border-right-color: var(--fill-color);\n",
              "      border-top-color: var(--fill-color);\n",
              "    }\n",
              "    60% {\n",
              "      border-color: transparent;\n",
              "      border-right-color: var(--fill-color);\n",
              "    }\n",
              "    80% {\n",
              "      border-color: transparent;\n",
              "      border-right-color: var(--fill-color);\n",
              "      border-bottom-color: var(--fill-color);\n",
              "    }\n",
              "    90% {\n",
              "      border-color: transparent;\n",
              "      border-bottom-color: var(--fill-color);\n",
              "    }\n",
              "  }\n",
              "</style>\n",
              "\n",
              "      <script>\n",
              "        async function quickchart(key) {\n",
              "          const quickchartButtonEl =\n",
              "            document.querySelector('#' + key + ' button');\n",
              "          quickchartButtonEl.disabled = true;  // To prevent multiple clicks.\n",
              "          quickchartButtonEl.classList.add('colab-df-spinner');\n",
              "          try {\n",
              "            const charts = await google.colab.kernel.invokeFunction(\n",
              "                'suggestCharts', [key], {});\n",
              "          } catch (error) {\n",
              "            console.error('Error during call to suggestCharts:', error);\n",
              "          }\n",
              "          quickchartButtonEl.classList.remove('colab-df-spinner');\n",
              "          quickchartButtonEl.classList.add('colab-df-quickchart-complete');\n",
              "        }\n",
              "        (() => {\n",
              "          let quickchartButtonEl =\n",
              "            document.querySelector('#df-481602ed-bc2c-4115-a148-15f0a7de89d2 button');\n",
              "          quickchartButtonEl.style.display =\n",
              "            google.colab.kernel.accessAllowed ? 'block' : 'none';\n",
              "        })();\n",
              "      </script>\n",
              "    </div>\n",
              "\n",
              "    </div>\n",
              "  </div>\n"
            ],
            "application/vnd.google.colaboratory.intrinsic+json": {
              "type": "dataframe",
              "variable_name": "sales"
            }
          },
          "metadata": {},
          "execution_count": 12
        }
      ]
    },
    {
      "cell_type": "code",
      "source": [
        "structure_nulls(sales)"
      ],
      "metadata": {
        "id": "6-sovMu7gQbF",
        "outputId": "57c7bf2c-3fb4-424e-bc59-60170efc559b",
        "colab": {
          "base_uri": "https://localhost:8080/"
        }
      },
      "id": "6-sovMu7gQbF",
      "execution_count": null,
      "outputs": [
        {
          "output_type": "stream",
          "name": "stdout",
          "text": [
            "DataFrame Dimensions:\n",
            "(499787, 6)\n",
            "\n",
            "Null Value Counts per Column:\n",
            "CUSTOMER_ID              0\n",
            "POSTING_DATE             0\n",
            "MATERIAL_ID              0\n",
            "GROSS_PROFIT_DEAD_NET    0\n",
            "PHYSICAL_VOLUME          0\n",
            "NSI_DEAD_NET             0\n",
            "dtype: int64\n"
          ]
        }
      ]
    },
    {
      "cell_type": "markdown",
      "source": [
        "This dataset doesn't have any nulls! Let's check for duplicates."
      ],
      "metadata": {
        "id": "hO3dxwlCNy3L"
      },
      "id": "hO3dxwlCNy3L"
    },
    {
      "cell_type": "code",
      "source": [
        "# check duplicates\n",
        "print(f\"Duplicates in sales: {sales.duplicated().sum()}\")"
      ],
      "metadata": {
        "colab": {
          "base_uri": "https://localhost:8080/"
        },
        "id": "N_8eA9nwSeNt",
        "outputId": "3438be33-cda3-4da0-85de-df517e48bc16"
      },
      "id": "N_8eA9nwSeNt",
      "execution_count": null,
      "outputs": [
        {
          "output_type": "stream",
          "name": "stdout",
          "text": [
            "Duplicates in sales: 1997\n"
          ]
        }
      ]
    },
    {
      "cell_type": "markdown",
      "source": [
        "There are 1,997 duplicate rows in the sales data. To avoid inflating the profit value, we will drop these duplicates."
      ],
      "metadata": {
        "id": "IXb24rxXZyGw"
      },
      "id": "IXb24rxXZyGw"
    },
    {
      "cell_type": "code",
      "source": [
        "sales = sales.drop_duplicates()"
      ],
      "metadata": {
        "id": "7FvaQ63dZ404"
      },
      "id": "7FvaQ63dZ404",
      "execution_count": null,
      "outputs": []
    },
    {
      "cell_type": "markdown",
      "source": [
        "Now that we have cleaned the sales table, let's do some exploration! First, let's join with the customers table to get some additional detail."
      ],
      "metadata": {
        "id": "VzbQAELDZ_KK"
      },
      "id": "VzbQAELDZ_KK"
    },
    {
      "cell_type": "code",
      "source": [
        "# standardize column names\n",
        "customer.columns = customer.columns.str.lower().str.replace(' ', '_')\n",
        "sales.columns = sales.columns.str.lower().str.replace(' ', '_')\n",
        "material.columns = material.columns.str.lower().str.replace(' ', '_') # standardize material column names\n",
        "\n",
        "# convert posting date to datetime\n",
        "sales['posting_date'] = pd.to_datetime(sales['posting_date'], errors='coerce')\n",
        "\n",
        "# merge on customer number/id\n",
        "merged = pd.merge(sales, customer, left_on='customer_id', right_on='customer_number', how='left')\n",
        "merged = pd.merge(merged, material, left_on='material_id', right_on='material_id', how='left')\n",
        "\n",
        "print(\"\\nMerged Data Preview:\")\n",
        "display(merged.head())"
      ],
      "metadata": {
        "id": "HEmndmkfadUw",
        "outputId": "e89adf39-29ca-42ff-d4c1-5910417eaa01",
        "colab": {
          "base_uri": "https://localhost:8080/",
          "height": 331
        }
      },
      "id": "HEmndmkfadUw",
      "execution_count": null,
      "outputs": [
        {
          "output_type": "stream",
          "name": "stdout",
          "text": [
            "\n",
            "Merged Data Preview:\n"
          ]
        },
        {
          "output_type": "display_data",
          "data": {
            "text/plain": [
              "   customer_id posting_date  material_id  gross_profit_dead_net  \\\n",
              "0    600055574   2024-07-17       144775                 130.68   \n",
              "1    600055574   2024-07-17       156082                  37.42   \n",
              "2    501438989   2024-07-17       144775                  41.84   \n",
              "3    600055574   2024-07-17       154914                  53.24   \n",
              "4    600055574   2024-07-17       156182                 110.30   \n",
              "\n",
              "   physical_volume  nsi_dead_net sales_office  customer_number  \\\n",
              "0             22.0        737.00         G111        600055574   \n",
              "1              6.0        105.42         G111        600055574   \n",
              "2              4.0        166.40         G142        501438989   \n",
              "3              4.0        123.88         G111        600055574   \n",
              "4             10.0        348.80         G111        600055574   \n",
              "\n",
              "  sales_office_description distribution_mode_description  \\\n",
              "0               Draper, UT             Bulk Distribution   \n",
              "1               Draper, UT             Bulk Distribution   \n",
              "2            Pocatello, ID                      Sideload   \n",
              "3               Draper, UT             Bulk Distribution   \n",
              "4               Draper, UT             Bulk Distribution   \n",
              "\n",
              "  shipping_conditions_description cold_drink_channel_description  \\\n",
              "0                        48 Hours                    Distributor   \n",
              "1                        48 Hours                    Distributor   \n",
              "2                        48 Hours                     Restaurant   \n",
              "3                        48 Hours                    Distributor   \n",
              "4                        48 Hours                    Distributor   \n",
              "\n",
              "  customer_sub_trade_channel_description          pack_type_desc  \\\n",
              "0                       Food Distributor            Aluminum Can   \n",
              "1                       Food Distributor  Plastic Bottle - Other   \n",
              "2                                 Dining            Aluminum Can   \n",
              "3                       Food Distributor  Plastic Bottle - Other   \n",
              "4                       Food Distributor  Plastic Bottle - Other   \n",
              "\n",
              "   trade_mark_desc    flavour_desc pack_size_desc              bev_cat_desc  \n",
              "0  Bobby's Bottles          Matcha          16 OZ             ENERGY DRINKS  \n",
              "1   Pete's Popcorn     Dragonfruit          20 OZ  ENHANCED WATER BEVERAGES  \n",
              "2  Bobby's Bottles          Matcha          16 OZ             ENERGY DRINKS  \n",
              "3            Sam's  Raspberry Lime          12 OZ            JUICES/NECTARS  \n",
              "4     Fizz Factory           Grape          14 OZ       DAIRY/SOY BEVERAGES  "
            ],
            "text/html": [
              "\n",
              "  <div id=\"df-0c6ab29f-2b3a-4fcb-83eb-5c438fd48170\" class=\"colab-df-container\">\n",
              "    <div>\n",
              "<style scoped>\n",
              "    .dataframe tbody tr th:only-of-type {\n",
              "        vertical-align: middle;\n",
              "    }\n",
              "\n",
              "    .dataframe tbody tr th {\n",
              "        vertical-align: top;\n",
              "    }\n",
              "\n",
              "    .dataframe thead th {\n",
              "        text-align: right;\n",
              "    }\n",
              "</style>\n",
              "<table border=\"1\" class=\"dataframe\">\n",
              "  <thead>\n",
              "    <tr style=\"text-align: right;\">\n",
              "      <th></th>\n",
              "      <th>customer_id</th>\n",
              "      <th>posting_date</th>\n",
              "      <th>material_id</th>\n",
              "      <th>gross_profit_dead_net</th>\n",
              "      <th>physical_volume</th>\n",
              "      <th>nsi_dead_net</th>\n",
              "      <th>sales_office</th>\n",
              "      <th>customer_number</th>\n",
              "      <th>sales_office_description</th>\n",
              "      <th>distribution_mode_description</th>\n",
              "      <th>shipping_conditions_description</th>\n",
              "      <th>cold_drink_channel_description</th>\n",
              "      <th>customer_sub_trade_channel_description</th>\n",
              "      <th>pack_type_desc</th>\n",
              "      <th>trade_mark_desc</th>\n",
              "      <th>flavour_desc</th>\n",
              "      <th>pack_size_desc</th>\n",
              "      <th>bev_cat_desc</th>\n",
              "    </tr>\n",
              "  </thead>\n",
              "  <tbody>\n",
              "    <tr>\n",
              "      <th>0</th>\n",
              "      <td>600055574</td>\n",
              "      <td>2024-07-17</td>\n",
              "      <td>144775</td>\n",
              "      <td>130.68</td>\n",
              "      <td>22.0</td>\n",
              "      <td>737.00</td>\n",
              "      <td>G111</td>\n",
              "      <td>600055574</td>\n",
              "      <td>Draper, UT</td>\n",
              "      <td>Bulk Distribution</td>\n",
              "      <td>48 Hours</td>\n",
              "      <td>Distributor</td>\n",
              "      <td>Food Distributor</td>\n",
              "      <td>Aluminum Can</td>\n",
              "      <td>Bobby's Bottles</td>\n",
              "      <td>Matcha</td>\n",
              "      <td>16 OZ</td>\n",
              "      <td>ENERGY DRINKS</td>\n",
              "    </tr>\n",
              "    <tr>\n",
              "      <th>1</th>\n",
              "      <td>600055574</td>\n",
              "      <td>2024-07-17</td>\n",
              "      <td>156082</td>\n",
              "      <td>37.42</td>\n",
              "      <td>6.0</td>\n",
              "      <td>105.42</td>\n",
              "      <td>G111</td>\n",
              "      <td>600055574</td>\n",
              "      <td>Draper, UT</td>\n",
              "      <td>Bulk Distribution</td>\n",
              "      <td>48 Hours</td>\n",
              "      <td>Distributor</td>\n",
              "      <td>Food Distributor</td>\n",
              "      <td>Plastic Bottle - Other</td>\n",
              "      <td>Pete's Popcorn</td>\n",
              "      <td>Dragonfruit</td>\n",
              "      <td>20 OZ</td>\n",
              "      <td>ENHANCED WATER BEVERAGES</td>\n",
              "    </tr>\n",
              "    <tr>\n",
              "      <th>2</th>\n",
              "      <td>501438989</td>\n",
              "      <td>2024-07-17</td>\n",
              "      <td>144775</td>\n",
              "      <td>41.84</td>\n",
              "      <td>4.0</td>\n",
              "      <td>166.40</td>\n",
              "      <td>G142</td>\n",
              "      <td>501438989</td>\n",
              "      <td>Pocatello, ID</td>\n",
              "      <td>Sideload</td>\n",
              "      <td>48 Hours</td>\n",
              "      <td>Restaurant</td>\n",
              "      <td>Dining</td>\n",
              "      <td>Aluminum Can</td>\n",
              "      <td>Bobby's Bottles</td>\n",
              "      <td>Matcha</td>\n",
              "      <td>16 OZ</td>\n",
              "      <td>ENERGY DRINKS</td>\n",
              "    </tr>\n",
              "    <tr>\n",
              "      <th>3</th>\n",
              "      <td>600055574</td>\n",
              "      <td>2024-07-17</td>\n",
              "      <td>154914</td>\n",
              "      <td>53.24</td>\n",
              "      <td>4.0</td>\n",
              "      <td>123.88</td>\n",
              "      <td>G111</td>\n",
              "      <td>600055574</td>\n",
              "      <td>Draper, UT</td>\n",
              "      <td>Bulk Distribution</td>\n",
              "      <td>48 Hours</td>\n",
              "      <td>Distributor</td>\n",
              "      <td>Food Distributor</td>\n",
              "      <td>Plastic Bottle - Other</td>\n",
              "      <td>Sam's</td>\n",
              "      <td>Raspberry Lime</td>\n",
              "      <td>12 OZ</td>\n",
              "      <td>JUICES/NECTARS</td>\n",
              "    </tr>\n",
              "    <tr>\n",
              "      <th>4</th>\n",
              "      <td>600055574</td>\n",
              "      <td>2024-07-17</td>\n",
              "      <td>156182</td>\n",
              "      <td>110.30</td>\n",
              "      <td>10.0</td>\n",
              "      <td>348.80</td>\n",
              "      <td>G111</td>\n",
              "      <td>600055574</td>\n",
              "      <td>Draper, UT</td>\n",
              "      <td>Bulk Distribution</td>\n",
              "      <td>48 Hours</td>\n",
              "      <td>Distributor</td>\n",
              "      <td>Food Distributor</td>\n",
              "      <td>Plastic Bottle - Other</td>\n",
              "      <td>Fizz Factory</td>\n",
              "      <td>Grape</td>\n",
              "      <td>14 OZ</td>\n",
              "      <td>DAIRY/SOY BEVERAGES</td>\n",
              "    </tr>\n",
              "  </tbody>\n",
              "</table>\n",
              "</div>\n",
              "    <div class=\"colab-df-buttons\">\n",
              "\n",
              "  <div class=\"colab-df-container\">\n",
              "    <button class=\"colab-df-convert\" onclick=\"convertToInteractive('df-0c6ab29f-2b3a-4fcb-83eb-5c438fd48170')\"\n",
              "            title=\"Convert this dataframe to an interactive table.\"\n",
              "            style=\"display:none;\">\n",
              "\n",
              "  <svg xmlns=\"http://www.w3.org/2000/svg\" height=\"24px\" viewBox=\"0 -960 960 960\">\n",
              "    <path d=\"M120-120v-720h720v720H120Zm60-500h600v-160H180v160Zm220 220h160v-160H400v160Zm0 220h160v-160H400v160ZM180-400h160v-160H180v160Zm440 0h160v-160H620v160ZM180-180h160v-160H180v160Zm440 0h160v-160H620v160Z\"/>\n",
              "  </svg>\n",
              "    </button>\n",
              "\n",
              "  <style>\n",
              "    .colab-df-container {\n",
              "      display:flex;\n",
              "      gap: 12px;\n",
              "    }\n",
              "\n",
              "    .colab-df-convert {\n",
              "      background-color: #E8F0FE;\n",
              "      border: none;\n",
              "      border-radius: 50%;\n",
              "      cursor: pointer;\n",
              "      display: none;\n",
              "      fill: #1967D2;\n",
              "      height: 32px;\n",
              "      padding: 0 0 0 0;\n",
              "      width: 32px;\n",
              "    }\n",
              "\n",
              "    .colab-df-convert:hover {\n",
              "      background-color: #E2EBFA;\n",
              "      box-shadow: 0px 1px 2px rgba(60, 64, 67, 0.3), 0px 1px 3px 1px rgba(60, 64, 67, 0.15);\n",
              "      fill: #174EA6;\n",
              "    }\n",
              "\n",
              "    .colab-df-buttons div {\n",
              "      margin-bottom: 4px;\n",
              "    }\n",
              "\n",
              "    [theme=dark] .colab-df-convert {\n",
              "      background-color: #3B4455;\n",
              "      fill: #D2E3FC;\n",
              "    }\n",
              "\n",
              "    [theme=dark] .colab-df-convert:hover {\n",
              "      background-color: #434B5C;\n",
              "      box-shadow: 0px 1px 3px 1px rgba(0, 0, 0, 0.15);\n",
              "      filter: drop-shadow(0px 1px 2px rgba(0, 0, 0, 0.3));\n",
              "      fill: #FFFFFF;\n",
              "    }\n",
              "  </style>\n",
              "\n",
              "    <script>\n",
              "      const buttonEl =\n",
              "        document.querySelector('#df-0c6ab29f-2b3a-4fcb-83eb-5c438fd48170 button.colab-df-convert');\n",
              "      buttonEl.style.display =\n",
              "        google.colab.kernel.accessAllowed ? 'block' : 'none';\n",
              "\n",
              "      async function convertToInteractive(key) {\n",
              "        const element = document.querySelector('#df-0c6ab29f-2b3a-4fcb-83eb-5c438fd48170');\n",
              "        const dataTable =\n",
              "          await google.colab.kernel.invokeFunction('convertToInteractive',\n",
              "                                                    [key], {});\n",
              "        if (!dataTable) return;\n",
              "\n",
              "        const docLinkHtml = 'Like what you see? Visit the ' +\n",
              "          '<a target=\"_blank\" href=https://colab.research.google.com/notebooks/data_table.ipynb>data table notebook</a>'\n",
              "          + ' to learn more about interactive tables.';\n",
              "        element.innerHTML = '';\n",
              "        dataTable['output_type'] = 'display_data';\n",
              "        await google.colab.output.renderOutput(dataTable, element);\n",
              "        const docLink = document.createElement('div');\n",
              "        docLink.innerHTML = docLinkHtml;\n",
              "        element.appendChild(docLink);\n",
              "      }\n",
              "    </script>\n",
              "  </div>\n",
              "\n",
              "\n",
              "    <div id=\"df-4c4990ce-70ef-4879-b376-d2a173b8693d\">\n",
              "      <button class=\"colab-df-quickchart\" onclick=\"quickchart('df-4c4990ce-70ef-4879-b376-d2a173b8693d')\"\n",
              "                title=\"Suggest charts\"\n",
              "                style=\"display:none;\">\n",
              "\n",
              "<svg xmlns=\"http://www.w3.org/2000/svg\" height=\"24px\"viewBox=\"0 0 24 24\"\n",
              "     width=\"24px\">\n",
              "    <g>\n",
              "        <path d=\"M19 3H5c-1.1 0-2 .9-2 2v14c0 1.1.9 2 2 2h14c1.1 0 2-.9 2-2V5c0-1.1-.9-2-2-2zM9 17H7v-7h2v7zm4 0h-2V7h2v10zm4 0h-2v-4h2v4z\"/>\n",
              "    </g>\n",
              "</svg>\n",
              "      </button>\n",
              "\n",
              "<style>\n",
              "  .colab-df-quickchart {\n",
              "      --bg-color: #E8F0FE;\n",
              "      --fill-color: #1967D2;\n",
              "      --hover-bg-color: #E2EBFA;\n",
              "      --hover-fill-color: #174EA6;\n",
              "      --disabled-fill-color: #AAA;\n",
              "      --disabled-bg-color: #DDD;\n",
              "  }\n",
              "\n",
              "  [theme=dark] .colab-df-quickchart {\n",
              "      --bg-color: #3B4455;\n",
              "      --fill-color: #D2E3FC;\n",
              "      --hover-bg-color: #434B5C;\n",
              "      --hover-fill-color: #FFFFFF;\n",
              "      --disabled-bg-color: #3B4455;\n",
              "      --disabled-fill-color: #666;\n",
              "  }\n",
              "\n",
              "  .colab-df-quickchart {\n",
              "    background-color: var(--bg-color);\n",
              "    border: none;\n",
              "    border-radius: 50%;\n",
              "    cursor: pointer;\n",
              "    display: none;\n",
              "    fill: var(--fill-color);\n",
              "    height: 32px;\n",
              "    padding: 0;\n",
              "    width: 32px;\n",
              "  }\n",
              "\n",
              "  .colab-df-quickchart:hover {\n",
              "    background-color: var(--hover-bg-color);\n",
              "    box-shadow: 0 1px 2px rgba(60, 64, 67, 0.3), 0 1px 3px 1px rgba(60, 64, 67, 0.15);\n",
              "    fill: var(--button-hover-fill-color);\n",
              "  }\n",
              "\n",
              "  .colab-df-quickchart-complete:disabled,\n",
              "  .colab-df-quickchart-complete:disabled:hover {\n",
              "    background-color: var(--disabled-bg-color);\n",
              "    fill: var(--disabled-fill-color);\n",
              "    box-shadow: none;\n",
              "  }\n",
              "\n",
              "  .colab-df-spinner {\n",
              "    border: 2px solid var(--fill-color);\n",
              "    border-color: transparent;\n",
              "    border-bottom-color: var(--fill-color);\n",
              "    animation:\n",
              "      spin 1s steps(1) infinite;\n",
              "  }\n",
              "\n",
              "  @keyframes spin {\n",
              "    0% {\n",
              "      border-color: transparent;\n",
              "      border-bottom-color: var(--fill-color);\n",
              "      border-left-color: var(--fill-color);\n",
              "    }\n",
              "    20% {\n",
              "      border-color: transparent;\n",
              "      border-left-color: var(--fill-color);\n",
              "      border-top-color: var(--fill-color);\n",
              "    }\n",
              "    30% {\n",
              "      border-color: transparent;\n",
              "      border-left-color: var(--fill-color);\n",
              "      border-top-color: var(--fill-color);\n",
              "      border-right-color: var(--fill-color);\n",
              "    }\n",
              "    40% {\n",
              "      border-color: transparent;\n",
              "      border-right-color: var(--fill-color);\n",
              "      border-top-color: var(--fill-color);\n",
              "    }\n",
              "    60% {\n",
              "      border-color: transparent;\n",
              "      border-right-color: var(--fill-color);\n",
              "    }\n",
              "    80% {\n",
              "      border-color: transparent;\n",
              "      border-right-color: var(--fill-color);\n",
              "      border-bottom-color: var(--fill-color);\n",
              "    }\n",
              "    90% {\n",
              "      border-color: transparent;\n",
              "      border-bottom-color: var(--fill-color);\n",
              "    }\n",
              "  }\n",
              "</style>\n",
              "\n",
              "      <script>\n",
              "        async function quickchart(key) {\n",
              "          const quickchartButtonEl =\n",
              "            document.querySelector('#' + key + ' button');\n",
              "          quickchartButtonEl.disabled = true;  // To prevent multiple clicks.\n",
              "          quickchartButtonEl.classList.add('colab-df-spinner');\n",
              "          try {\n",
              "            const charts = await google.colab.kernel.invokeFunction(\n",
              "                'suggestCharts', [key], {});\n",
              "          } catch (error) {\n",
              "            console.error('Error during call to suggestCharts:', error);\n",
              "          }\n",
              "          quickchartButtonEl.classList.remove('colab-df-spinner');\n",
              "          quickchartButtonEl.classList.add('colab-df-quickchart-complete');\n",
              "        }\n",
              "        (() => {\n",
              "          let quickchartButtonEl =\n",
              "            document.querySelector('#df-4c4990ce-70ef-4879-b376-d2a173b8693d button');\n",
              "          quickchartButtonEl.style.display =\n",
              "            google.colab.kernel.accessAllowed ? 'block' : 'none';\n",
              "        })();\n",
              "      </script>\n",
              "    </div>\n",
              "\n",
              "    </div>\n",
              "  </div>\n"
            ],
            "application/vnd.google.colaboratory.intrinsic+json": {
              "type": "dataframe",
              "summary": "{\n  \"name\": \"display(merged\",\n  \"rows\": 5,\n  \"fields\": [\n    {\n      \"column\": \"customer_id\",\n      \"properties\": {\n        \"dtype\": \"number\",\n        \"std\": 44102677,\n        \"min\": 501438989,\n        \"max\": 600055574,\n        \"num_unique_values\": 2,\n        \"samples\": [\n          501438989,\n          600055574\n        ],\n        \"semantic_type\": \"\",\n        \"description\": \"\"\n      }\n    },\n    {\n      \"column\": \"posting_date\",\n      \"properties\": {\n        \"dtype\": \"date\",\n        \"min\": \"2024-07-17 00:00:00\",\n        \"max\": \"2024-07-17 00:00:00\",\n        \"num_unique_values\": 1,\n        \"samples\": [\n          \"2024-07-17 00:00:00\"\n        ],\n        \"semantic_type\": \"\",\n        \"description\": \"\"\n      }\n    },\n    {\n      \"column\": \"material_id\",\n      \"properties\": {\n        \"dtype\": \"number\",\n        \"std\": 6018,\n        \"min\": 144775,\n        \"max\": 156182,\n        \"num_unique_values\": 4,\n        \"samples\": [\n          156082\n        ],\n        \"semantic_type\": \"\",\n        \"description\": \"\"\n      }\n    },\n    {\n      \"column\": \"gross_profit_dead_net\",\n      \"properties\": {\n        \"dtype\": \"number\",\n        \"std\": 42.81130084452001,\n        \"min\": 37.42,\n        \"max\": 130.68,\n        \"num_unique_values\": 5,\n        \"samples\": [\n          37.42\n        ],\n        \"semantic_type\": \"\",\n        \"description\": \"\"\n      }\n    },\n    {\n      \"column\": \"physical_volume\",\n      \"properties\": {\n        \"dtype\": \"number\",\n        \"std\": 7.563068160475615,\n        \"min\": 4.0,\n        \"max\": 22.0,\n        \"num_unique_values\": 4,\n        \"samples\": [\n          6.0\n        ],\n        \"semantic_type\": \"\",\n        \"description\": \"\"\n      }\n    },\n    {\n      \"column\": \"nsi_dead_net\",\n      \"properties\": {\n        \"dtype\": \"number\",\n        \"std\": 264.5801300173541,\n        \"min\": 105.42,\n        \"max\": 737.0,\n        \"num_unique_values\": 5,\n        \"samples\": [\n          105.42\n        ],\n        \"semantic_type\": \"\",\n        \"description\": \"\"\n      }\n    },\n    {\n      \"column\": \"sales_office\",\n      \"properties\": {\n        \"dtype\": \"category\",\n        \"num_unique_values\": 2,\n        \"samples\": [\n          \"G142\"\n        ],\n        \"semantic_type\": \"\",\n        \"description\": \"\"\n      }\n    },\n    {\n      \"column\": \"customer_number\",\n      \"properties\": {\n        \"dtype\": \"number\",\n        \"std\": 44102677,\n        \"min\": 501438989,\n        \"max\": 600055574,\n        \"num_unique_values\": 2,\n        \"samples\": [\n          501438989\n        ],\n        \"semantic_type\": \"\",\n        \"description\": \"\"\n      }\n    },\n    {\n      \"column\": \"sales_office_description\",\n      \"properties\": {\n        \"dtype\": \"category\",\n        \"num_unique_values\": 2,\n        \"samples\": [\n          \"Pocatello, ID\"\n        ],\n        \"semantic_type\": \"\",\n        \"description\": \"\"\n      }\n    },\n    {\n      \"column\": \"distribution_mode_description\",\n      \"properties\": {\n        \"dtype\": \"category\",\n        \"num_unique_values\": 2,\n        \"samples\": [\n          \"Sideload\"\n        ],\n        \"semantic_type\": \"\",\n        \"description\": \"\"\n      }\n    },\n    {\n      \"column\": \"shipping_conditions_description\",\n      \"properties\": {\n        \"dtype\": \"category\",\n        \"num_unique_values\": 1,\n        \"samples\": [\n          \"48 Hours\"\n        ],\n        \"semantic_type\": \"\",\n        \"description\": \"\"\n      }\n    },\n    {\n      \"column\": \"cold_drink_channel_description\",\n      \"properties\": {\n        \"dtype\": \"category\",\n        \"num_unique_values\": 2,\n        \"samples\": [\n          \"Restaurant\"\n        ],\n        \"semantic_type\": \"\",\n        \"description\": \"\"\n      }\n    },\n    {\n      \"column\": \"customer_sub_trade_channel_description\",\n      \"properties\": {\n        \"dtype\": \"category\",\n        \"num_unique_values\": 2,\n        \"samples\": [\n          \"Dining\"\n        ],\n        \"semantic_type\": \"\",\n        \"description\": \"\"\n      }\n    },\n    {\n      \"column\": \"pack_type_desc\",\n      \"properties\": {\n        \"dtype\": \"category\",\n        \"num_unique_values\": 2,\n        \"samples\": [\n          \"Plastic Bottle - Other\"\n        ],\n        \"semantic_type\": \"\",\n        \"description\": \"\"\n      }\n    },\n    {\n      \"column\": \"trade_mark_desc\",\n      \"properties\": {\n        \"dtype\": \"string\",\n        \"num_unique_values\": 4,\n        \"samples\": [\n          \"Pete's Popcorn\"\n        ],\n        \"semantic_type\": \"\",\n        \"description\": \"\"\n      }\n    },\n    {\n      \"column\": \"flavour_desc\",\n      \"properties\": {\n        \"dtype\": \"string\",\n        \"num_unique_values\": 4,\n        \"samples\": [\n          \"Dragonfruit\"\n        ],\n        \"semantic_type\": \"\",\n        \"description\": \"\"\n      }\n    },\n    {\n      \"column\": \"pack_size_desc\",\n      \"properties\": {\n        \"dtype\": \"string\",\n        \"num_unique_values\": 4,\n        \"samples\": [\n          \"20 OZ\"\n        ],\n        \"semantic_type\": \"\",\n        \"description\": \"\"\n      }\n    },\n    {\n      \"column\": \"bev_cat_desc\",\n      \"properties\": {\n        \"dtype\": \"string\",\n        \"num_unique_values\": 4,\n        \"samples\": [\n          \"ENHANCED WATER BEVERAGES\"\n        ],\n        \"semantic_type\": \"\",\n        \"description\": \"\"\n      }\n    }\n  ]\n}"
            }
          },
          "metadata": {}
        }
      ]
    },
    {
      "cell_type": "markdown",
      "source": [
        "Now that we have a merged data set, let's look at profits by sales office."
      ],
      "metadata": {
        "id": "eESxMoPKajVc"
      },
      "id": "eESxMoPKajVc"
    },
    {
      "cell_type": "code",
      "source": [
        "# sales by office\n",
        "sales_by_office = merged.groupby('sales_office_description')['gross_profit_dead_net'].sum().sort_values(ascending=False)\n",
        "sales_by_office.plot(kind='bar', title='Total Gross Profit by Sales Office')\n",
        "plt.ylabel('Gross Profit ($)')\n",
        "plt.xlabel('Sales Office')\n",
        "plt.show()"
      ],
      "metadata": {
        "id": "YPpWL6bmaEv9",
        "outputId": "9310f119-1d3f-4474-cc4e-5af79f9a941b",
        "colab": {
          "base_uri": "https://localhost:8080/",
          "height": 613
        }
      },
      "id": "YPpWL6bmaEv9",
      "execution_count": null,
      "outputs": [
        {
          "output_type": "display_data",
          "data": {
            "text/plain": [
              "<Figure size 640x480 with 1 Axes>"
            ],
            "image/png": "[encoded data removed]"
          },
          "metadata": {}
        }
      ]
    },
    {
      "cell_type": "markdown",
      "source": [
        "From the graph we can see the top three sales offices are Tempe, Draper and Denver!\n",
        "\n",
        "Now let's look at profits by distribution mode and shipping method."
      ],
      "metadata": {
        "id": "U1d3CLaKar0-"
      },
      "id": "U1d3CLaKar0-"
    },
    {
      "cell_type": "code",
      "source": [
        "# profit by distribution method\n",
        "sns.boxplot(data=merged, x='distribution_mode_description', y='gross_profit_dead_net')\n",
        "plt.title('Gross Profit Distribution by Distribution Mode')\n",
        "plt.xlabel('Distribution Mode')\n",
        "plt.ylabel('Gross Profit ($)')\n",
        "plt.xticks(rotation=90)\n",
        "plt.show()"
      ],
      "metadata": {
        "id": "hgZVLcYRa-34",
        "outputId": "26f5e8ed-8038-4b2c-f6ef-8f253bb1350a",
        "colab": {
          "base_uri": "https://localhost:8080/",
          "height": 601
        }
      },
      "id": "hgZVLcYRa-34",
      "execution_count": null,
      "outputs": [
        {
          "output_type": "display_data",
          "data": {
            "text/plain": [
              "<Figure size 640x480 with 1 Axes>"
            ],
            "image/png": "[encoded data removed]"
          },
          "metadata": {}
        }
      ]
    },
    {
      "cell_type": "code",
      "source": [
        "# profit by shipping method\n",
        "sns.barplot(data=merged, x='shipping_conditions_description', y='gross_profit_dead_net', estimator=sum)\n",
        "plt.title('Total Gross Profit by Shipping Condition')\n",
        "plt.xlabel('Shipping Condition')\n",
        "plt.ylabel('Gross Profit ($)')\n",
        "plt.show()"
      ],
      "metadata": {
        "id": "X6pbUK80bCiH",
        "outputId": "4e45c6e2-4bd5-4633-b2a4-26a098134bc5",
        "colab": {
          "base_uri": "https://localhost:8080/",
          "height": 472
        }
      },
      "id": "X6pbUK80bCiH",
      "execution_count": null,
      "outputs": [
        {
          "output_type": "display_data",
          "data": {
            "text/plain": [
              "<Figure size 640x480 with 1 Axes>"
            ],
            "image/png": "[encoded data removed]"
          },
          "metadata": {}
        }
      ]
    },
    {
      "cell_type": "markdown",
      "source": [
        "Although these last two graphs seem to give us little insight, we believe that shipping method and distribution mode may have an impact on customer behavior for cart abandonement so we will keep them in."
      ],
      "metadata": {
        "id": "wg8p50Z_bIVt"
      },
      "id": "wg8p50Z_bIVt"
    },
    {
      "cell_type": "markdown",
      "source": [
        "# Customer\n",
        "\n",
        "This dimension table  gives us information on customers such as where they order from and what type of customer category they are in (restaurant,\n",
        "wholesaler)"
      ],
      "metadata": {
        "id": "VrDQU3for5wb"
      },
      "id": "VrDQU3for5wb"
    },
    {
      "cell_type": "code",
      "source": [
        "customer.head()"
      ],
      "metadata": {
        "id": "xcdpkBt8sEtI",
        "outputId": "1380a09f-c1be-439d-e391-987b425841a2",
        "colab": {
          "base_uri": "https://localhost:8080/",
          "height": 226
        }
      },
      "id": "xcdpkBt8sEtI",
      "execution_count": null,
      "outputs": [
        {
          "output_type": "execute_result",
          "data": {
            "text/plain": [
              "  sales_office  customer_number sales_office_description  \\\n",
              "0         G111        500964906               Draper, UT   \n",
              "1         G111        501543906               Draper, UT   \n",
              "2         G293        501394111               Tacoma, WA   \n",
              "3         G238        501528559     Colorado Springs, CO   \n",
              "4         G132        500504789              Alamosa, CO   \n",
              "\n",
              "  distribution_mode_description shipping_conditions_description  \\\n",
              "0                      Sideload                        48 Hours   \n",
              "1                      Sideload                        48 Hours   \n",
              "2                           OFS                        24 Hours   \n",
              "3                           OFS                        48 Hours   \n",
              "4                           OFS                        48 Hours   \n",
              "\n",
              "  cold_drink_channel_description customer_sub_trade_channel_description  \n",
              "0                     Restaurant                                 Dining  \n",
              "1                     Restaurant                      Mexican Fast Food  \n",
              "2                     Attraction                      Recreation Center  \n",
              "3                     Attraction                      Recreation Center  \n",
              "4                     Restaurant                              Fast Food  "
            ],
            "text/html": [
              "\n",
              "  <div id=\"df-6137c0d0-f157-49d8-81a6-378d073adf17\" class=\"colab-df-container\">\n",
              "    <div>\n",
              "<style scoped>\n",
              "    .dataframe tbody tr th:only-of-type {\n",
              "        vertical-align: middle;\n",
              "    }\n",
              "\n",
              "    .dataframe tbody tr th {\n",
              "        vertical-align: top;\n",
              "    }\n",
              "\n",
              "    .dataframe thead th {\n",
              "        text-align: right;\n",
              "    }\n",
              "</style>\n",
              "<table border=\"1\" class=\"dataframe\">\n",
              "  <thead>\n",
              "    <tr style=\"text-align: right;\">\n",
              "      <th></th>\n",
              "      <th>sales_office</th>\n",
              "      <th>customer_number</th>\n",
              "      <th>sales_office_description</th>\n",
              "      <th>distribution_mode_description</th>\n",
              "      <th>shipping_conditions_description</th>\n",
              "      <th>cold_drink_channel_description</th>\n",
              "      <th>customer_sub_trade_channel_description</th>\n",
              "    </tr>\n",
              "  </thead>\n",
              "  <tbody>\n",
              "    <tr>\n",
              "      <th>0</th>\n",
              "      <td>G111</td>\n",
              "      <td>500964906</td>\n",
              "      <td>Draper, UT</td>\n",
              "      <td>Sideload</td>\n",
              "      <td>48 Hours</td>\n",
              "      <td>Restaurant</td>\n",
              "      <td>Dining</td>\n",
              "    </tr>\n",
              "    <tr>\n",
              "      <th>1</th>\n",
              "      <td>G111</td>\n",
              "      <td>501543906</td>\n",
              "      <td>Draper, UT</td>\n",
              "      <td>Sideload</td>\n",
              "      <td>48 Hours</td>\n",
              "      <td>Restaurant</td>\n",
              "      <td>Mexican Fast Food</td>\n",
              "    </tr>\n",
              "    <tr>\n",
              "      <th>2</th>\n",
              "      <td>G293</td>\n",
              "      <td>501394111</td>\n",
              "      <td>Tacoma, WA</td>\n",
              "      <td>OFS</td>\n",
              "      <td>24 Hours</td>\n",
              "      <td>Attraction</td>\n",
              "      <td>Recreation Center</td>\n",
              "    </tr>\n",
              "    <tr>\n",
              "      <th>3</th>\n",
              "      <td>G238</td>\n",
              "      <td>501528559</td>\n",
              "      <td>Colorado Springs, CO</td>\n",
              "      <td>OFS</td>\n",
              "      <td>48 Hours</td>\n",
              "      <td>Attraction</td>\n",
              "      <td>Recreation Center</td>\n",
              "    </tr>\n",
              "    <tr>\n",
              "      <th>4</th>\n",
              "      <td>G132</td>\n",
              "      <td>500504789</td>\n",
              "      <td>Alamosa, CO</td>\n",
              "      <td>OFS</td>\n",
              "      <td>48 Hours</td>\n",
              "      <td>Restaurant</td>\n",
              "      <td>Fast Food</td>\n",
              "    </tr>\n",
              "  </tbody>\n",
              "</table>\n",
              "</div>\n",
              "    <div class=\"colab-df-buttons\">\n",
              "\n",
              "  <div class=\"colab-df-container\">\n",
              "    <button class=\"colab-df-convert\" onclick=\"convertToInteractive('df-6137c0d0-f157-49d8-81a6-378d073adf17')\"\n",
              "            title=\"Convert this dataframe to an interactive table.\"\n",
              "            style=\"display:none;\">\n",
              "\n",
              "  <svg xmlns=\"http://www.w3.org/2000/svg\" height=\"24px\" viewBox=\"0 -960 960 960\">\n",
              "    <path d=\"M120-120v-720h720v720H120Zm60-500h600v-160H180v160Zm220 220h160v-160H400v160Zm0 220h160v-160H400v160ZM180-400h160v-160H180v160Zm440 0h160v-160H620v160ZM180-180h160v-160H180v160Zm440 0h160v-160H620v160Z\"/>\n",
              "  </svg>\n",
              "    </button>\n",
              "\n",
              "  <style>\n",
              "    .colab-df-container {\n",
              "      display:flex;\n",
              "      gap: 12px;\n",
              "    }\n",
              "\n",
              "    .colab-df-convert {\n",
              "      background-color: #E8F0FE;\n",
              "      border: none;\n",
              "      border-radius: 50%;\n",
              "      cursor: pointer;\n",
              "      display: none;\n",
              "      fill: #1967D2;\n",
              "      height: 32px;\n",
              "      padding: 0 0 0 0;\n",
              "      width: 32px;\n",
              "    }\n",
              "\n",
              "    .colab-df-convert:hover {\n",
              "      background-color: #E2EBFA;\n",
              "      box-shadow: 0px 1px 2px rgba(60, 64, 67, 0.3), 0px 1px 3px 1px rgba(60, 64, 67, 0.15);\n",
              "      fill: #174EA6;\n",
              "    }\n",
              "\n",
              "    .colab-df-buttons div {\n",
              "      margin-bottom: 4px;\n",
              "    }\n",
              "\n",
              "    [theme=dark] .colab-df-convert {\n",
              "      background-color: #3B4455;\n",
              "      fill: #D2E3FC;\n",
              "    }\n",
              "\n",
              "    [theme=dark] .colab-df-convert:hover {\n",
              "      background-color: #434B5C;\n",
              "      box-shadow: 0px 1px 3px 1px rgba(0, 0, 0, 0.15);\n",
              "      filter: drop-shadow(0px 1px 2px rgba(0, 0, 0, 0.3));\n",
              "      fill: #FFFFFF;\n",
              "    }\n",
              "  </style>\n",
              "\n",
              "    <script>\n",
              "      const buttonEl =\n",
              "        document.querySelector('#df-6137c0d0-f157-49d8-81a6-378d073adf17 button.colab-df-convert');\n",
              "      buttonEl.style.display =\n",
              "        google.colab.kernel.accessAllowed ? 'block' : 'none';\n",
              "\n",
              "      async function convertToInteractive(key) {\n",
              "        const element = document.querySelector('#df-6137c0d0-f157-49d8-81a6-378d073adf17');\n",
              "        const dataTable =\n",
              "          await google.colab.kernel.invokeFunction('convertToInteractive',\n",
              "                                                    [key], {});\n",
              "        if (!dataTable) return;\n",
              "\n",
              "        const docLinkHtml = 'Like what you see? Visit the ' +\n",
              "          '<a target=\"_blank\" href=https://colab.research.google.com/notebooks/data_table.ipynb>data table notebook</a>'\n",
              "          + ' to learn more about interactive tables.';\n",
              "        element.innerHTML = '';\n",
              "        dataTable['output_type'] = 'display_data';\n",
              "        await google.colab.output.renderOutput(dataTable, element);\n",
              "        const docLink = document.createElement('div');\n",
              "        docLink.innerHTML = docLinkHtml;\n",
              "        element.appendChild(docLink);\n",
              "      }\n",
              "    </script>\n",
              "  </div>\n",
              "\n",
              "\n",
              "    <div id=\"df-08fd877d-4636-4f61-bd9c-9399d2e11b4a\">\n",
              "      <button class=\"colab-df-quickchart\" onclick=\"quickchart('df-08fd877d-4636-4f61-bd9c-9399d2e11b4a')\"\n",
              "                title=\"Suggest charts\"\n",
              "                style=\"display:none;\">\n",
              "\n",
              "<svg xmlns=\"http://www.w3.org/2000/svg\" height=\"24px\"viewBox=\"0 0 24 24\"\n",
              "     width=\"24px\">\n",
              "    <g>\n",
              "        <path d=\"M19 3H5c-1.1 0-2 .9-2 2v14c0 1.1.9 2 2 2h14c1.1 0 2-.9 2-2V5c0-1.1-.9-2-2-2zM9 17H7v-7h2v7zm4 0h-2V7h2v10zm4 0h-2v-4h2v4z\"/>\n",
              "    </g>\n",
              "</svg>\n",
              "      </button>\n",
              "\n",
              "<style>\n",
              "  .colab-df-quickchart {\n",
              "      --bg-color: #E8F0FE;\n",
              "      --fill-color: #1967D2;\n",
              "      --hover-bg-color: #E2EBFA;\n",
              "      --hover-fill-color: #174EA6;\n",
              "      --disabled-fill-color: #AAA;\n",
              "      --disabled-bg-color: #DDD;\n",
              "  }\n",
              "\n",
              "  [theme=dark] .colab-df-quickchart {\n",
              "      --bg-color: #3B4455;\n",
              "      --fill-color: #D2E3FC;\n",
              "      --hover-bg-color: #434B5C;\n",
              "      --hover-fill-color: #FFFFFF;\n",
              "      --disabled-bg-color: #3B4455;\n",
              "      --disabled-fill-color: #666;\n",
              "  }\n",
              "\n",
              "  .colab-df-quickchart {\n",
              "    background-color: var(--bg-color);\n",
              "    border: none;\n",
              "    border-radius: 50%;\n",
              "    cursor: pointer;\n",
              "    display: none;\n",
              "    fill: var(--fill-color);\n",
              "    height: 32px;\n",
              "    padding: 0;\n",
              "    width: 32px;\n",
              "  }\n",
              "\n",
              "  .colab-df-quickchart:hover {\n",
              "    background-color: var(--hover-bg-color);\n",
              "    box-shadow: 0 1px 2px rgba(60, 64, 67, 0.3), 0 1px 3px 1px rgba(60, 64, 67, 0.15);\n",
              "    fill: var(--button-hover-fill-color);\n",
              "  }\n",
              "\n",
              "  .colab-df-quickchart-complete:disabled,\n",
              "  .colab-df-quickchart-complete:disabled:hover {\n",
              "    background-color: var(--disabled-bg-color);\n",
              "    fill: var(--disabled-fill-color);\n",
              "    box-shadow: none;\n",
              "  }\n",
              "\n",
              "  .colab-df-spinner {\n",
              "    border: 2px solid var(--fill-color);\n",
              "    border-color: transparent;\n",
              "    border-bottom-color: var(--fill-color);\n",
              "    animation:\n",
              "      spin 1s steps(1) infinite;\n",
              "  }\n",
              "\n",
              "  @keyframes spin {\n",
              "    0% {\n",
              "      border-color: transparent;\n",
              "      border-bottom-color: var(--fill-color);\n",
              "      border-left-color: var(--fill-color);\n",
              "    }\n",
              "    20% {\n",
              "      border-color: transparent;\n",
              "      border-left-color: var(--fill-color);\n",
              "      border-top-color: var(--fill-color);\n",
              "    }\n",
              "    30% {\n",
              "      border-color: transparent;\n",
              "      border-left-color: var(--fill-color);\n",
              "      border-top-color: var(--fill-color);\n",
              "      border-right-color: var(--fill-color);\n",
              "    }\n",
              "    40% {\n",
              "      border-color: transparent;\n",
              "      border-right-color: var(--fill-color);\n",
              "      border-top-color: var(--fill-color);\n",
              "    }\n",
              "    60% {\n",
              "      border-color: transparent;\n",
              "      border-right-color: var(--fill-color);\n",
              "    }\n",
              "    80% {\n",
              "      border-color: transparent;\n",
              "      border-right-color: var(--fill-color);\n",
              "      border-bottom-color: var(--fill-color);\n",
              "    }\n",
              "    90% {\n",
              "      border-color: transparent;\n",
              "      border-bottom-color: var(--fill-color);\n",
              "    }\n",
              "  }\n",
              "</style>\n",
              "\n",
              "      <script>\n",
              "        async function quickchart(key) {\n",
              "          const quickchartButtonEl =\n",
              "            document.querySelector('#' + key + ' button');\n",
              "          quickchartButtonEl.disabled = true;  // To prevent multiple clicks.\n",
              "          quickchartButtonEl.classList.add('colab-df-spinner');\n",
              "          try {\n",
              "            const charts = await google.colab.kernel.invokeFunction(\n",
              "                'suggestCharts', [key], {});\n",
              "          } catch (error) {\n",
              "            console.error('Error during call to suggestCharts:', error);\n",
              "          }\n",
              "          quickchartButtonEl.classList.remove('colab-df-spinner');\n",
              "          quickchartButtonEl.classList.add('colab-df-quickchart-complete');\n",
              "        }\n",
              "        (() => {\n",
              "          let quickchartButtonEl =\n",
              "            document.querySelector('#df-08fd877d-4636-4f61-bd9c-9399d2e11b4a button');\n",
              "          quickchartButtonEl.style.display =\n",
              "            google.colab.kernel.accessAllowed ? 'block' : 'none';\n",
              "        })();\n",
              "      </script>\n",
              "    </div>\n",
              "\n",
              "    </div>\n",
              "  </div>\n"
            ],
            "application/vnd.google.colaboratory.intrinsic+json": {
              "type": "dataframe",
              "variable_name": "customer",
              "summary": "{\n  \"name\": \"customer\",\n  \"rows\": 6334,\n  \"fields\": [\n    {\n      \"column\": \"sales_office\",\n      \"properties\": {\n        \"dtype\": \"category\",\n        \"num_unique_values\": 44,\n        \"samples\": [\n          \"G264\",\n          \"G133\",\n          \"G223\"\n        ],\n        \"semantic_type\": \"\",\n        \"description\": \"\"\n      }\n    },\n    {\n      \"column\": \"customer_number\",\n      \"properties\": {\n        \"dtype\": \"number\",\n        \"std\": 41483320,\n        \"min\": 500245685,\n        \"max\": 600975318,\n        \"num_unique_values\": 6334,\n        \"samples\": [\n          501686807,\n          501496471,\n          500731837\n        ],\n        \"semantic_type\": \"\",\n        \"description\": \"\"\n      }\n    },\n    {\n      \"column\": \"sales_office_description\",\n      \"properties\": {\n        \"dtype\": \"category\",\n        \"num_unique_values\": 44,\n        \"samples\": [\n          \"Huachuca City, AZ\",\n          \"Glenwood Springs, CO\",\n          \"Eugene, OR\"\n        ],\n        \"semantic_type\": \"\",\n        \"description\": \"\"\n      }\n    },\n    {\n      \"column\": \"distribution_mode_description\",\n      \"properties\": {\n        \"dtype\": \"category\",\n        \"num_unique_values\": 10,\n        \"samples\": [\n          \"Special Events\",\n          \"OFS\",\n          \"EZ Pallet\"\n        ],\n        \"semantic_type\": \"\",\n        \"description\": \"\"\n      }\n    },\n    {\n      \"column\": \"shipping_conditions_description\",\n      \"properties\": {\n        \"dtype\": \"category\",\n        \"num_unique_values\": 5,\n        \"samples\": [\n          \"24 Hours\",\n          \"Dropsite 24 Hours\",\n          \"72 Hours\"\n        ],\n        \"semantic_type\": \"\",\n        \"description\": \"\"\n      }\n    },\n    {\n      \"column\": \"cold_drink_channel_description\",\n      \"properties\": {\n        \"dtype\": \"category\",\n        \"num_unique_values\": 9,\n        \"samples\": [\n          \"Hotel\",\n          \"Attraction\",\n          \"Institution\"\n        ],\n        \"semantic_type\": \"\",\n        \"description\": \"\"\n      }\n    },\n    {\n      \"column\": \"customer_sub_trade_channel_description\",\n      \"properties\": {\n        \"dtype\": \"category\",\n        \"num_unique_values\": 57,\n        \"samples\": [\n          \"Dining\",\n          \"Healthcare Facility\",\n          \"Government Office\"\n        ],\n        \"semantic_type\": \"\",\n        \"description\": \"\"\n      }\n    }\n  ]\n}"
            }
          },
          "metadata": {},
          "execution_count": 26
        }
      ]
    },
    {
      "cell_type": "code",
      "source": [
        "structure_nulls(customer)\n",
        "\n",
        "print(f\"\\nDuplicates in customers: {customer.duplicated().sum()}\")"
      ],
      "metadata": {
        "id": "rOZzYoMPsfwM",
        "outputId": "b7b9335d-6184-445e-9013-132caa3d4e57",
        "colab": {
          "base_uri": "https://localhost:8080/"
        }
      },
      "id": "rOZzYoMPsfwM",
      "execution_count": null,
      "outputs": [
        {
          "output_type": "stream",
          "name": "stdout",
          "text": [
            "DataFrame Dimensions:\n",
            "(6334, 7)\n",
            "\n",
            "Null Value Counts per Column:\n",
            "sales_office                              0\n",
            "customer_number                           0\n",
            "sales_office_description                  0\n",
            "distribution_mode_description             4\n",
            "shipping_conditions_description           0\n",
            "cold_drink_channel_description            0\n",
            "customer_sub_trade_channel_description    0\n",
            "dtype: int64\n",
            "\n",
            "Duplicates in customers: 0\n"
          ]
        }
      ]
    },
    {
      "cell_type": "markdown",
      "source": [
        "No nulls or duplicates!\n",
        "\n",
        "We will use the merged sales and customers table to continuing our analysis. We will start by looking at the top 10 customer types by total profits."
      ],
      "metadata": {
        "id": "OZIWhTxgbcWt"
      },
      "id": "OZIWhTxgbcWt"
    },
    {
      "cell_type": "code",
      "source": [
        "# top 10 customer types by total profits\n",
        "segment_summary = merged.groupby('customer_sub_trade_channel_description')['gross_profit_dead_net'].agg(['count','sum','mean']).sort_values(by='sum', ascending=False)\n",
        "display(segment_summary[1:10])"
      ],
      "metadata": {
        "id": "GAMkmUaYbbtV",
        "outputId": "16265d08-0ed3-4436-a087-d33b150d426b",
        "colab": {
          "base_uri": "https://localhost:8080/",
          "height": 363
        }
      },
      "id": "GAMkmUaYbbtV",
      "execution_count": null,
      "outputs": [
        {
          "output_type": "display_data",
          "data": {
            "text/plain": [
              "                                        count         sum        mean\n",
              "customer_sub_trade_channel_description                               \n",
              "Local Convenience                       91651  2574084.80   28.085725\n",
              "Wholesaler                               5027  1894745.94  376.913853\n",
              "Recreation Center                       28981  1863301.79   64.293909\n",
              "General Store                           16101  1621615.17  100.715184\n",
              "Restaurant                              23789  1480718.00   62.243810\n",
              "Dining                                  24181  1298223.58   53.687754\n",
              "Healthcare Facility                     30219   971287.39   32.141613\n",
              "Motel                                   20125   951051.56   47.257220\n",
              "Mexican Fast Food                       11017   705512.13   64.038498"
            ],
            "text/html": [
              "\n",
              "  <div id=\"df-eb23fb9c-ccce-4b75-b244-b80f2e14139e\" class=\"colab-df-container\">\n",
              "    <div>\n",
              "<style scoped>\n",
              "    .dataframe tbody tr th:only-of-type {\n",
              "        vertical-align: middle;\n",
              "    }\n",
              "\n",
              "    .dataframe tbody tr th {\n",
              "        vertical-align: top;\n",
              "    }\n",
              "\n",
              "    .dataframe thead th {\n",
              "        text-align: right;\n",
              "    }\n",
              "</style>\n",
              "<table border=\"1\" class=\"dataframe\">\n",
              "  <thead>\n",
              "    <tr style=\"text-align: right;\">\n",
              "      <th></th>\n",
              "      <th>count</th>\n",
              "      <th>sum</th>\n",
              "      <th>mean</th>\n",
              "    </tr>\n",
              "    <tr>\n",
              "      <th>customer_sub_trade_channel_description</th>\n",
              "      <th></th>\n",
              "      <th></th>\n",
              "      <th></th>\n",
              "    </tr>\n",
              "  </thead>\n",
              "  <tbody>\n",
              "    <tr>\n",
              "      <th>Local Convenience</th>\n",
              "      <td>91651</td>\n",
              "      <td>2574084.80</td>\n",
              "      <td>28.085725</td>\n",
              "    </tr>\n",
              "    <tr>\n",
              "      <th>Wholesaler</th>\n",
              "      <td>5027</td>\n",
              "      <td>1894745.94</td>\n",
              "      <td>376.913853</td>\n",
              "    </tr>\n",
              "    <tr>\n",
              "      <th>Recreation Center</th>\n",
              "      <td>28981</td>\n",
              "      <td>1863301.79</td>\n",
              "      <td>64.293909</td>\n",
              "    </tr>\n",
              "    <tr>\n",
              "      <th>General Store</th>\n",
              "      <td>16101</td>\n",
              "      <td>1621615.17</td>\n",
              "      <td>100.715184</td>\n",
              "    </tr>\n",
              "    <tr>\n",
              "      <th>Restaurant</th>\n",
              "      <td>23789</td>\n",
              "      <td>1480718.00</td>\n",
              "      <td>62.243810</td>\n",
              "    </tr>\n",
              "    <tr>\n",
              "      <th>Dining</th>\n",
              "      <td>24181</td>\n",
              "      <td>1298223.58</td>\n",
              "      <td>53.687754</td>\n",
              "    </tr>\n",
              "    <tr>\n",
              "      <th>Healthcare Facility</th>\n",
              "      <td>30219</td>\n",
              "      <td>971287.39</td>\n",
              "      <td>32.141613</td>\n",
              "    </tr>\n",
              "    <tr>\n",
              "      <th>Motel</th>\n",
              "      <td>20125</td>\n",
              "      <td>951051.56</td>\n",
              "      <td>47.257220</td>\n",
              "    </tr>\n",
              "    <tr>\n",
              "      <th>Mexican Fast Food</th>\n",
              "      <td>11017</td>\n",
              "      <td>705512.13</td>\n",
              "      <td>64.038498</td>\n",
              "    </tr>\n",
              "  </tbody>\n",
              "</table>\n",
              "</div>\n",
              "    <div class=\"colab-df-buttons\">\n",
              "\n",
              "  <div class=\"colab-df-container\">\n",
              "    <button class=\"colab-df-convert\" onclick=\"convertToInteractive('df-eb23fb9c-ccce-4b75-b244-b80f2e14139e')\"\n",
              "            title=\"Convert this dataframe to an interactive table.\"\n",
              "            style=\"display:none;\">\n",
              "\n",
              "  <svg xmlns=\"http://www.w3.org/2000/svg\" height=\"24px\" viewBox=\"0 -960 960 960\">\n",
              "    <path d=\"M120-120v-720h720v720H120Zm60-500h600v-160H180v160Zm220 220h160v-160H400v160Zm0 220h160v-160H400v160ZM180-400h160v-160H180v160Zm440 0h160v-160H620v160ZM180-180h160v-160H180v160Zm440 0h160v-160H620v160Z\"/>\n",
              "  </svg>\n",
              "    </button>\n",
              "\n",
              "  <style>\n",
              "    .colab-df-container {\n",
              "      display:flex;\n",
              "      gap: 12px;\n",
              "    }\n",
              "\n",
              "    .colab-df-convert {\n",
              "      background-color: #E8F0FE;\n",
              "      border: none;\n",
              "      border-radius: 50%;\n",
              "      cursor: pointer;\n",
              "      display: none;\n",
              "      fill: #1967D2;\n",
              "      height: 32px;\n",
              "      padding: 0 0 0 0;\n",
              "      width: 32px;\n",
              "    }\n",
              "\n",
              "    .colab-df-convert:hover {\n",
              "      background-color: #E2EBFA;\n",
              "      box-shadow: 0px 1px 2px rgba(60, 64, 67, 0.3), 0px 1px 3px 1px rgba(60, 64, 67, 0.15);\n",
              "      fill: #174EA6;\n",
              "    }\n",
              "\n",
              "    .colab-df-buttons div {\n",
              "      margin-bottom: 4px;\n",
              "    }\n",
              "\n",
              "    [theme=dark] .colab-df-convert {\n",
              "      background-color: #3B4455;\n",
              "      fill: #D2E3FC;\n",
              "    }\n",
              "\n",
              "    [theme=dark] .colab-df-convert:hover {\n",
              "      background-color: #434B5C;\n",
              "      box-shadow: 0px 1px 3px 1px rgba(0, 0, 0, 0.15);\n",
              "      filter: drop-shadow(0px 1px 2px rgba(0, 0, 0, 0.3));\n",
              "      fill: #FFFFFF;\n",
              "    }\n",
              "  </style>\n",
              "\n",
              "    <script>\n",
              "      const buttonEl =\n",
              "        document.querySelector('#df-eb23fb9c-ccce-4b75-b244-b80f2e14139e button.colab-df-convert');\n",
              "      buttonEl.style.display =\n",
              "        google.colab.kernel.accessAllowed ? 'block' : 'none';\n",
              "\n",
              "      async function convertToInteractive(key) {\n",
              "        const element = document.querySelector('#df-eb23fb9c-ccce-4b75-b244-b80f2e14139e');\n",
              "        const dataTable =\n",
              "          await google.colab.kernel.invokeFunction('convertToInteractive',\n",
              "                                                    [key], {});\n",
              "        if (!dataTable) return;\n",
              "\n",
              "        const docLinkHtml = 'Like what you see? Visit the ' +\n",
              "          '<a target=\"_blank\" href=https://colab.research.google.com/notebooks/data_table.ipynb>data table notebook</a>'\n",
              "          + ' to learn more about interactive tables.';\n",
              "        element.innerHTML = '';\n",
              "        dataTable['output_type'] = 'display_data';\n",
              "        await google.colab.output.renderOutput(dataTable, element);\n",
              "        const docLink = document.createElement('div');\n",
              "        docLink.innerHTML = docLinkHtml;\n",
              "        element.appendChild(docLink);\n",
              "      }\n",
              "    </script>\n",
              "  </div>\n",
              "\n",
              "\n",
              "    <div id=\"df-618e7871-f952-4dad-b612-af1dcdcda2cc\">\n",
              "      <button class=\"colab-df-quickchart\" onclick=\"quickchart('df-618e7871-f952-4dad-b612-af1dcdcda2cc')\"\n",
              "                title=\"Suggest charts\"\n",
              "                style=\"display:none;\">\n",
              "\n",
              "<svg xmlns=\"http://www.w3.org/2000/svg\" height=\"24px\"viewBox=\"0 0 24 24\"\n",
              "     width=\"24px\">\n",
              "    <g>\n",
              "        <path d=\"M19 3H5c-1.1 0-2 .9-2 2v14c0 1.1.9 2 2 2h14c1.1 0 2-.9 2-2V5c0-1.1-.9-2-2-2zM9 17H7v-7h2v7zm4 0h-2V7h2v10zm4 0h-2v-4h2v4z\"/>\n",
              "    </g>\n",
              "</svg>\n",
              "      </button>\n",
              "\n",
              "<style>\n",
              "  .colab-df-quickchart {\n",
              "      --bg-color: #E8F0FE;\n",
              "      --fill-color: #1967D2;\n",
              "      --hover-bg-color: #E2EBFA;\n",
              "      --hover-fill-color: #174EA6;\n",
              "      --disabled-fill-color: #AAA;\n",
              "      --disabled-bg-color: #DDD;\n",
              "  }\n",
              "\n",
              "  [theme=dark] .colab-df-quickchart {\n",
              "      --bg-color: #3B4455;\n",
              "      --fill-color: #D2E3FC;\n",
              "      --hover-bg-color: #434B5C;\n",
              "      --hover-fill-color: #FFFFFF;\n",
              "      --disabled-bg-color: #3B4455;\n",
              "      --disabled-fill-color: #666;\n",
              "  }\n",
              "\n",
              "  .colab-df-quickchart {\n",
              "    background-color: var(--bg-color);\n",
              "    border: none;\n",
              "    border-radius: 50%;\n",
              "    cursor: pointer;\n",
              "    display: none;\n",
              "    fill: var(--fill-color);\n",
              "    height: 32px;\n",
              "    padding: 0;\n",
              "    width: 32px;\n",
              "  }\n",
              "\n",
              "  .colab-df-quickchart:hover {\n",
              "    background-color: var(--hover-bg-color);\n",
              "    box-shadow: 0 1px 2px rgba(60, 64, 67, 0.3), 0 1px 3px 1px rgba(60, 64, 67, 0.15);\n",
              "    fill: var(--button-hover-fill-color);\n",
              "  }\n",
              "\n",
              "  .colab-df-quickchart-complete:disabled,\n",
              "  .colab-df-quickchart-complete:disabled:hover {\n",
              "    background-color: var(--disabled-bg-color);\n",
              "    fill: var(--disabled-fill-color);\n",
              "    box-shadow: none;\n",
              "  }\n",
              "\n",
              "  .colab-df-spinner {\n",
              "    border: 2px solid var(--fill-color);\n",
              "    border-color: transparent;\n",
              "    border-bottom-color: var(--fill-color);\n",
              "    animation:\n",
              "      spin 1s steps(1) infinite;\n",
              "  }\n",
              "\n",
              "  @keyframes spin {\n",
              "    0% {\n",
              "      border-color: transparent;\n",
              "      border-bottom-color: var(--fill-color);\n",
              "      border-left-color: var(--fill-color);\n",
              "    }\n",
              "    20% {\n",
              "      border-color: transparent;\n",
              "      border-left-color: var(--fill-color);\n",
              "      border-top-color: var(--fill-color);\n",
              "    }\n",
              "    30% {\n",
              "      border-color: transparent;\n",
              "      border-left-color: var(--fill-color);\n",
              "      border-top-color: var(--fill-color);\n",
              "      border-right-color: var(--fill-color);\n",
              "    }\n",
              "    40% {\n",
              "      border-color: transparent;\n",
              "      border-right-color: var(--fill-color);\n",
              "      border-top-color: var(--fill-color);\n",
              "    }\n",
              "    60% {\n",
              "      border-color: transparent;\n",
              "      border-right-color: var(--fill-color);\n",
              "    }\n",
              "    80% {\n",
              "      border-color: transparent;\n",
              "      border-right-color: var(--fill-color);\n",
              "      border-bottom-color: var(--fill-color);\n",
              "    }\n",
              "    90% {\n",
              "      border-color: transparent;\n",
              "      border-bottom-color: var(--fill-color);\n",
              "    }\n",
              "  }\n",
              "</style>\n",
              "\n",
              "      <script>\n",
              "        async function quickchart(key) {\n",
              "          const quickchartButtonEl =\n",
              "            document.querySelector('#' + key + ' button');\n",
              "          quickchartButtonEl.disabled = true;  // To prevent multiple clicks.\n",
              "          quickchartButtonEl.classList.add('colab-df-spinner');\n",
              "          try {\n",
              "            const charts = await google.colab.kernel.invokeFunction(\n",
              "                'suggestCharts', [key], {});\n",
              "          } catch (error) {\n",
              "            console.error('Error during call to suggestCharts:', error);\n",
              "          }\n",
              "          quickchartButtonEl.classList.remove('colab-df-spinner');\n",
              "          quickchartButtonEl.classList.add('colab-df-quickchart-complete');\n",
              "        }\n",
              "        (() => {\n",
              "          let quickchartButtonEl =\n",
              "            document.querySelector('#df-618e7871-f952-4dad-b612-af1dcdcda2cc button');\n",
              "          quickchartButtonEl.style.display =\n",
              "            google.colab.kernel.accessAllowed ? 'block' : 'none';\n",
              "        })();\n",
              "      </script>\n",
              "    </div>\n",
              "\n",
              "    </div>\n",
              "  </div>\n"
            ],
            "application/vnd.google.colaboratory.intrinsic+json": {
              "type": "dataframe",
              "summary": "{\n  \"name\": \"display(segment_summary[1:10])\",\n  \"rows\": 9,\n  \"fields\": [\n    {\n      \"column\": \"customer_sub_trade_channel_description\",\n      \"properties\": {\n        \"dtype\": \"string\",\n        \"num_unique_values\": 9,\n        \"samples\": [\n          \"Motel\",\n          \"Wholesaler\",\n          \"Dining\"\n        ],\n        \"semantic_type\": \"\",\n        \"description\": \"\"\n      }\n    },\n    {\n      \"column\": \"count\",\n      \"properties\": {\n        \"dtype\": \"number\",\n        \"std\": 25271,\n        \"min\": 5027,\n        \"max\": 91651,\n        \"num_unique_values\": 9,\n        \"samples\": [\n          20125,\n          5027,\n          24181\n        ],\n        \"semantic_type\": \"\",\n        \"description\": \"\"\n      }\n    },\n    {\n      \"column\": \"sum\",\n      \"properties\": {\n        \"dtype\": \"number\",\n        \"std\": 581729.9485616654,\n        \"min\": 705512.13,\n        \"max\": 2574084.8,\n        \"num_unique_values\": 9,\n        \"samples\": [\n          951051.5599999999,\n          1894745.94,\n          1298223.58\n        ],\n        \"semantic_type\": \"\",\n        \"description\": \"\"\n      }\n    },\n    {\n      \"column\": \"mean\",\n      \"properties\": {\n        \"dtype\": \"number\",\n        \"std\": 108.87168869538715,\n        \"min\": 28.085725196669973,\n        \"max\": 376.91385319275906,\n        \"num_unique_values\": 9,\n        \"samples\": [\n          47.2572203726708,\n          376.91385319275906,\n          53.68775402175262\n        ],\n        \"semantic_type\": \"\",\n        \"description\": \"\"\n      }\n    }\n  ]\n}"
            }
          },
          "metadata": {}
        }
      ]
    },
    {
      "cell_type": "markdown",
      "source": [
        "We can see that local convenience stores have the highest total profits! Let's look at total orders and average profits as well."
      ],
      "metadata": {
        "id": "q7rbBlV-cBN7"
      },
      "id": "q7rbBlV-cBN7"
    },
    {
      "cell_type": "code",
      "source": [
        "# top 10 customer types by total orders\n",
        "segment_summary = merged.groupby('customer_sub_trade_channel_description')['gross_profit_dead_net'].agg(['count','sum','mean']).sort_values(by='count', ascending=False)\n",
        "display(segment_summary[1:10])"
      ],
      "metadata": {
        "id": "9qJuLiP-cI-Z",
        "outputId": "8c8cfa44-fac2-4f1d-a308-7e3da38a40be",
        "colab": {
          "base_uri": "https://localhost:8080/",
          "height": 363
        }
      },
      "id": "9qJuLiP-cI-Z",
      "execution_count": null,
      "outputs": [
        {
          "output_type": "display_data",
          "data": {
            "text/plain": [
              "                                        count         sum        mean\n",
              "customer_sub_trade_channel_description                               \n",
              "Local Convenience                       91651  2574084.80   28.085725\n",
              "Healthcare Facility                     30219   971287.39   32.141613\n",
              "Recreation Center                       28981  1863301.79   64.293909\n",
              "Dining                                  24181  1298223.58   53.687754\n",
              "Restaurant                              23789  1480718.00   62.243810\n",
              "Motel                                   20125   951051.56   47.257220\n",
              "Convenience Store                       19341   554200.59   28.654185\n",
              "General Store                           16101  1621615.17  100.715184\n",
              "Supermarket                             12965   499920.58   38.559243"
            ],
            "text/html": [
              "\n",
              "  <div id=\"df-0f15d0e2-244b-4269-8d54-b6090a8fcdf6\" class=\"colab-df-container\">\n",
              "    <div>\n",
              "<style scoped>\n",
              "    .dataframe tbody tr th:only-of-type {\n",
              "        vertical-align: middle;\n",
              "    }\n",
              "\n",
              "    .dataframe tbody tr th {\n",
              "        vertical-align: top;\n",
              "    }\n",
              "\n",
              "    .dataframe thead th {\n",
              "        text-align: right;\n",
              "    }\n",
              "</style>\n",
              "<table border=\"1\" class=\"dataframe\">\n",
              "  <thead>\n",
              "    <tr style=\"text-align: right;\">\n",
              "      <th></th>\n",
              "      <th>count</th>\n",
              "      <th>sum</th>\n",
              "      <th>mean</th>\n",
              "    </tr>\n",
              "    <tr>\n",
              "      <th>customer_sub_trade_channel_description</th>\n",
              "      <th></th>\n",
              "      <th></th>\n",
              "      <th></th>\n",
              "    </tr>\n",
              "  </thead>\n",
              "  <tbody>\n",
              "    <tr>\n",
              "      <th>Local Convenience</th>\n",
              "      <td>91651</td>\n",
              "      <td>2574084.80</td>\n",
              "      <td>28.085725</td>\n",
              "    </tr>\n",
              "    <tr>\n",
              "      <th>Healthcare Facility</th>\n",
              "      <td>30219</td>\n",
              "      <td>971287.39</td>\n",
              "      <td>32.141613</td>\n",
              "    </tr>\n",
              "    <tr>\n",
              "      <th>Recreation Center</th>\n",
              "      <td>28981</td>\n",
              "      <td>1863301.79</td>\n",
              "      <td>64.293909</td>\n",
              "    </tr>\n",
              "    <tr>\n",
              "      <th>Dining</th>\n",
              "      <td>24181</td>\n",
              "      <td>1298223.58</td>\n",
              "      <td>53.687754</td>\n",
              "    </tr>\n",
              "    <tr>\n",
              "      <th>Restaurant</th>\n",
              "      <td>23789</td>\n",
              "      <td>1480718.00</td>\n",
              "      <td>62.243810</td>\n",
              "    </tr>\n",
              "    <tr>\n",
              "      <th>Motel</th>\n",
              "      <td>20125</td>\n",
              "      <td>951051.56</td>\n",
              "      <td>47.257220</td>\n",
              "    </tr>\n",
              "    <tr>\n",
              "      <th>Convenience Store</th>\n",
              "      <td>19341</td>\n",
              "      <td>554200.59</td>\n",
              "      <td>28.654185</td>\n",
              "    </tr>\n",
              "    <tr>\n",
              "      <th>General Store</th>\n",
              "      <td>16101</td>\n",
              "      <td>1621615.17</td>\n",
              "      <td>100.715184</td>\n",
              "    </tr>\n",
              "    <tr>\n",
              "      <th>Supermarket</th>\n",
              "      <td>12965</td>\n",
              "      <td>499920.58</td>\n",
              "      <td>38.559243</td>\n",
              "    </tr>\n",
              "  </tbody>\n",
              "</table>\n",
              "</div>\n",
              "    <div class=\"colab-df-buttons\">\n",
              "\n",
              "  <div class=\"colab-df-container\">\n",
              "    <button class=\"colab-df-convert\" onclick=\"convertToInteractive('df-0f15d0e2-244b-4269-8d54-b6090a8fcdf6')\"\n",
              "            title=\"Convert this dataframe to an interactive table.\"\n",
              "            style=\"display:none;\">\n",
              "\n",
              "  <svg xmlns=\"http://www.w3.org/2000/svg\" height=\"24px\" viewBox=\"0 -960 960 960\">\n",
              "    <path d=\"M120-120v-720h720v720H120Zm60-500h600v-160H180v160Zm220 220h160v-160H400v160Zm0 220h160v-160H400v160ZM180-400h160v-160H180v160Zm440 0h160v-160H620v160ZM180-180h160v-160H180v160Zm440 0h160v-160H620v160Z\"/>\n",
              "  </svg>\n",
              "    </button>\n",
              "\n",
              "  <style>\n",
              "    .colab-df-container {\n",
              "      display:flex;\n",
              "      gap: 12px;\n",
              "    }\n",
              "\n",
              "    .colab-df-convert {\n",
              "      background-color: #E8F0FE;\n",
              "      border: none;\n",
              "      border-radius: 50%;\n",
              "      cursor: pointer;\n",
              "      display: none;\n",
              "      fill: #1967D2;\n",
              "      height: 32px;\n",
              "      padding: 0 0 0 0;\n",
              "      width: 32px;\n",
              "    }\n",
              "\n",
              "    .colab-df-convert:hover {\n",
              "      background-color: #E2EBFA;\n",
              "      box-shadow: 0px 1px 2px rgba(60, 64, 67, 0.3), 0px 1px 3px 1px rgba(60, 64, 67, 0.15);\n",
              "      fill: #174EA6;\n",
              "    }\n",
              "\n",
              "    .colab-df-buttons div {\n",
              "      margin-bottom: 4px;\n",
              "    }\n",
              "\n",
              "    [theme=dark] .colab-df-convert {\n",
              "      background-color: #3B4455;\n",
              "      fill: #D2E3FC;\n",
              "    }\n",
              "\n",
              "    [theme=dark] .colab-df-convert:hover {\n",
              "      background-color: #434B5C;\n",
              "      box-shadow: 0px 1px 3px 1px rgba(0, 0, 0, 0.15);\n",
              "      filter: drop-shadow(0px 1px 2px rgba(0, 0, 0, 0.3));\n",
              "      fill: #FFFFFF;\n",
              "    }\n",
              "  </style>\n",
              "\n",
              "    <script>\n",
              "      const buttonEl =\n",
              "        document.querySelector('#df-0f15d0e2-244b-4269-8d54-b6090a8fcdf6 button.colab-df-convert');\n",
              "      buttonEl.style.display =\n",
              "        google.colab.kernel.accessAllowed ? 'block' : 'none';\n",
              "\n",
              "      async function convertToInteractive(key) {\n",
              "        const element = document.querySelector('#df-0f15d0e2-244b-4269-8d54-b6090a8fcdf6');\n",
              "        const dataTable =\n",
              "          await google.colab.kernel.invokeFunction('convertToInteractive',\n",
              "                                                    [key], {});\n",
              "        if (!dataTable) return;\n",
              "\n",
              "        const docLinkHtml = 'Like what you see? Visit the ' +\n",
              "          '<a target=\"_blank\" href=https://colab.research.google.com/notebooks/data_table.ipynb>data table notebook</a>'\n",
              "          + ' to learn more about interactive tables.';\n",
              "        element.innerHTML = '';\n",
              "        dataTable['output_type'] = 'display_data';\n",
              "        await google.colab.output.renderOutput(dataTable, element);\n",
              "        const docLink = document.createElement('div');\n",
              "        docLink.innerHTML = docLinkHtml;\n",
              "        element.appendChild(docLink);\n",
              "      }\n",
              "    </script>\n",
              "  </div>\n",
              "\n",
              "\n",
              "    <div id=\"df-9a4e8d03-cdc6-44b8-9d04-1ffe915bae66\">\n",
              "      <button class=\"colab-df-quickchart\" onclick=\"quickchart('df-9a4e8d03-cdc6-44b8-9d04-1ffe915bae66')\"\n",
              "                title=\"Suggest charts\"\n",
              "                style=\"display:none;\">\n",
              "\n",
              "<svg xmlns=\"http://www.w3.org/2000/svg\" height=\"24px\"viewBox=\"0 0 24 24\"\n",
              "     width=\"24px\">\n",
              "    <g>\n",
              "        <path d=\"M19 3H5c-1.1 0-2 .9-2 2v14c0 1.1.9 2 2 2h14c1.1 0 2-.9 2-2V5c0-1.1-.9-2-2-2zM9 17H7v-7h2v7zm4 0h-2V7h2v10zm4 0h-2v-4h2v4z\"/>\n",
              "    </g>\n",
              "</svg>\n",
              "      </button>\n",
              "\n",
              "<style>\n",
              "  .colab-df-quickchart {\n",
              "      --bg-color: #E8F0FE;\n",
              "      --fill-color: #1967D2;\n",
              "      --hover-bg-color: #E2EBFA;\n",
              "      --hover-fill-color: #174EA6;\n",
              "      --disabled-fill-color: #AAA;\n",
              "      --disabled-bg-color: #DDD;\n",
              "  }\n",
              "\n",
              "  [theme=dark] .colab-df-quickchart {\n",
              "      --bg-color: #3B4455;\n",
              "      --fill-color: #D2E3FC;\n",
              "      --hover-bg-color: #434B5C;\n",
              "      --hover-fill-color: #FFFFFF;\n",
              "      --disabled-bg-color: #3B4455;\n",
              "      --disabled-fill-color: #666;\n",
              "  }\n",
              "\n",
              "  .colab-df-quickchart {\n",
              "    background-color: var(--bg-color);\n",
              "    border: none;\n",
              "    border-radius: 50%;\n",
              "    cursor: pointer;\n",
              "    display: none;\n",
              "    fill: var(--fill-color);\n",
              "    height: 32px;\n",
              "    padding: 0;\n",
              "    width: 32px;\n",
              "  }\n",
              "\n",
              "  .colab-df-quickchart:hover {\n",
              "    background-color: var(--hover-bg-color);\n",
              "    box-shadow: 0 1px 2px rgba(60, 64, 67, 0.3), 0 1px 3px 1px rgba(60, 64, 67, 0.15);\n",
              "    fill: var(--button-hover-fill-color);\n",
              "  }\n",
              "\n",
              "  .colab-df-quickchart-complete:disabled,\n",
              "  .colab-df-quickchart-complete:disabled:hover {\n",
              "    background-color: var(--disabled-bg-color);\n",
              "    fill: var(--disabled-fill-color);\n",
              "    box-shadow: none;\n",
              "  }\n",
              "\n",
              "  .colab-df-spinner {\n",
              "    border: 2px solid var(--fill-color);\n",
              "    border-color: transparent;\n",
              "    border-bottom-color: var(--fill-color);\n",
              "    animation:\n",
              "      spin 1s steps(1) infinite;\n",
              "  }\n",
              "\n",
              "  @keyframes spin {\n",
              "    0% {\n",
              "      border-color: transparent;\n",
              "      border-bottom-color: var(--fill-color);\n",
              "      border-left-color: var(--fill-color);\n",
              "    }\n",
              "    20% {\n",
              "      border-color: transparent;\n",
              "      border-left-color: var(--fill-color);\n",
              "      border-top-color: var(--fill-color);\n",
              "    }\n",
              "    30% {\n",
              "      border-color: transparent;\n",
              "      border-left-color: var(--fill-color);\n",
              "      border-top-color: var(--fill-color);\n",
              "      border-right-color: var(--fill-color);\n",
              "    }\n",
              "    40% {\n",
              "      border-color: transparent;\n",
              "      border-right-color: var(--fill-color);\n",
              "      border-top-color: var(--fill-color);\n",
              "    }\n",
              "    60% {\n",
              "      border-color: transparent;\n",
              "      border-right-color: var(--fill-color);\n",
              "    }\n",
              "    80% {\n",
              "      border-color: transparent;\n",
              "      border-right-color: var(--fill-color);\n",
              "      border-bottom-color: var(--fill-color);\n",
              "    }\n",
              "    90% {\n",
              "      border-color: transparent;\n",
              "      border-bottom-color: var(--fill-color);\n",
              "    }\n",
              "  }\n",
              "</style>\n",
              "\n",
              "      <script>\n",
              "        async function quickchart(key) {\n",
              "          const quickchartButtonEl =\n",
              "            document.querySelector('#' + key + ' button');\n",
              "          quickchartButtonEl.disabled = true;  // To prevent multiple clicks.\n",
              "          quickchartButtonEl.classList.add('colab-df-spinner');\n",
              "          try {\n",
              "            const charts = await google.colab.kernel.invokeFunction(\n",
              "                'suggestCharts', [key], {});\n",
              "          } catch (error) {\n",
              "            console.error('Error during call to suggestCharts:', error);\n",
              "          }\n",
              "          quickchartButtonEl.classList.remove('colab-df-spinner');\n",
              "          quickchartButtonEl.classList.add('colab-df-quickchart-complete');\n",
              "        }\n",
              "        (() => {\n",
              "          let quickchartButtonEl =\n",
              "            document.querySelector('#df-9a4e8d03-cdc6-44b8-9d04-1ffe915bae66 button');\n",
              "          quickchartButtonEl.style.display =\n",
              "            google.colab.kernel.accessAllowed ? 'block' : 'none';\n",
              "        })();\n",
              "      </script>\n",
              "    </div>\n",
              "\n",
              "    </div>\n",
              "  </div>\n"
            ],
            "application/vnd.google.colaboratory.intrinsic+json": {
              "type": "dataframe",
              "summary": "{\n  \"name\": \"display(segment_summary[1:10])\",\n  \"rows\": 9,\n  \"fields\": [\n    {\n      \"column\": \"customer_sub_trade_channel_description\",\n      \"properties\": {\n        \"dtype\": \"string\",\n        \"num_unique_values\": 9,\n        \"samples\": [\n          \"General Store\",\n          \"Healthcare Facility\",\n          \"Motel\"\n        ],\n        \"semantic_type\": \"\",\n        \"description\": \"\"\n      }\n    },\n    {\n      \"column\": \"count\",\n      \"properties\": {\n        \"dtype\": \"number\",\n        \"std\": 23895,\n        \"min\": 12965,\n        \"max\": 91651,\n        \"num_unique_values\": 9,\n        \"samples\": [\n          16101,\n          30219,\n          20125\n        ],\n        \"semantic_type\": \"\",\n        \"description\": \"\"\n      }\n    },\n    {\n      \"column\": \"sum\",\n      \"properties\": {\n        \"dtype\": \"number\",\n        \"std\": 661570.6732765205,\n        \"min\": 499920.58,\n        \"max\": 2574084.8,\n        \"num_unique_values\": 9,\n        \"samples\": [\n          1621615.17,\n          971287.39,\n          951051.5599999999\n        ],\n        \"semantic_type\": \"\",\n        \"description\": \"\"\n      }\n    },\n    {\n      \"column\": \"mean\",\n      \"properties\": {\n        \"dtype\": \"number\",\n        \"std\": 23.26354025367481,\n        \"min\": 28.085725196669973,\n        \"max\": 100.71518352897336,\n        \"num_unique_values\": 9,\n        \"samples\": [\n          100.71518352897336,\n          32.14161256163341,\n          47.2572203726708\n        ],\n        \"semantic_type\": \"\",\n        \"description\": \"\"\n      }\n    }\n  ]\n}"
            }
          },
          "metadata": {}
        }
      ]
    },
    {
      "cell_type": "markdown",
      "source": [
        "Local convenience stores still lead in total orders!"
      ],
      "metadata": {
        "id": "1rWnxFRIcPOc"
      },
      "id": "1rWnxFRIcPOc"
    },
    {
      "cell_type": "code",
      "source": [
        "# top 10 customer types by mean profits\n",
        "segment_summary = merged.groupby('customer_sub_trade_channel_description')['gross_profit_dead_net'].agg(['count','sum','mean']).sort_values(by='mean', ascending=False)\n",
        "display(segment_summary[1:10])"
      ],
      "metadata": {
        "id": "WFMiTNEscUWT",
        "outputId": "655c07f3-9ea1-41f8-dec9-9adc8088dce1",
        "colab": {
          "base_uri": "https://localhost:8080/",
          "height": 363
        }
      },
      "id": "WFMiTNEscUWT",
      "execution_count": null,
      "outputs": [
        {
          "output_type": "display_data",
          "data": {
            "text/plain": [
              "                                        count          sum        mean\n",
              "customer_sub_trade_channel_description                                \n",
              "Distributor                               208    110025.76  528.970000\n",
              "Wholesaler                               5027   1894745.94  376.913853\n",
              "Wholesale Market                          820    238593.28  290.967415\n",
              "Theme Park                                572     87316.29  152.650857\n",
              "Middle School                               4       606.37  151.592500\n",
              "Religious Institution                    1576    219422.35  139.227379\n",
              "Food Distributor                        99166  13789592.92  139.055653\n",
              "Sports Arena                             2876    386355.84  134.337914\n",
              "Amusement Center                          914    114907.58  125.719453"
            ],
            "text/html": [
              "\n",
              "  <div id=\"df-e674a06c-b1ff-478d-a0ba-f8e9beb42127\" class=\"colab-df-container\">\n",
              "    <div>\n",
              "<style scoped>\n",
              "    .dataframe tbody tr th:only-of-type {\n",
              "        vertical-align: middle;\n",
              "    }\n",
              "\n",
              "    .dataframe tbody tr th {\n",
              "        vertical-align: top;\n",
              "    }\n",
              "\n",
              "    .dataframe thead th {\n",
              "        text-align: right;\n",
              "    }\n",
              "</style>\n",
              "<table border=\"1\" class=\"dataframe\">\n",
              "  <thead>\n",
              "    <tr style=\"text-align: right;\">\n",
              "      <th></th>\n",
              "      <th>count</th>\n",
              "      <th>sum</th>\n",
              "      <th>mean</th>\n",
              "    </tr>\n",
              "    <tr>\n",
              "      <th>customer_sub_trade_channel_description</th>\n",
              "      <th></th>\n",
              "      <th></th>\n",
              "      <th></th>\n",
              "    </tr>\n",
              "  </thead>\n",
              "  <tbody>\n",
              "    <tr>\n",
              "      <th>Distributor</th>\n",
              "      <td>208</td>\n",
              "      <td>110025.76</td>\n",
              "      <td>528.970000</td>\n",
              "    </tr>\n",
              "    <tr>\n",
              "      <th>Wholesaler</th>\n",
              "      <td>5027</td>\n",
              "      <td>1894745.94</td>\n",
              "      <td>376.913853</td>\n",
              "    </tr>\n",
              "    <tr>\n",
              "      <th>Wholesale Market</th>\n",
              "      <td>820</td>\n",
              "      <td>238593.28</td>\n",
              "      <td>290.967415</td>\n",
              "    </tr>\n",
              "    <tr>\n",
              "      <th>Theme Park</th>\n",
              "      <td>572</td>\n",
              "      <td>87316.29</td>\n",
              "      <td>152.650857</td>\n",
              "    </tr>\n",
              "    <tr>\n",
              "      <th>Middle School</th>\n",
              "      <td>4</td>\n",
              "      <td>606.37</td>\n",
              "      <td>151.592500</td>\n",
              "    </tr>\n",
              "    <tr>\n",
              "      <th>Religious Institution</th>\n",
              "      <td>1576</td>\n",
              "      <td>219422.35</td>\n",
              "      <td>139.227379</td>\n",
              "    </tr>\n",
              "    <tr>\n",
              "      <th>Food Distributor</th>\n",
              "      <td>99166</td>\n",
              "      <td>13789592.92</td>\n",
              "      <td>139.055653</td>\n",
              "    </tr>\n",
              "    <tr>\n",
              "      <th>Sports Arena</th>\n",
              "      <td>2876</td>\n",
              "      <td>386355.84</td>\n",
              "      <td>134.337914</td>\n",
              "    </tr>\n",
              "    <tr>\n",
              "      <th>Amusement Center</th>\n",
              "      <td>914</td>\n",
              "      <td>114907.58</td>\n",
              "      <td>125.719453</td>\n",
              "    </tr>\n",
              "  </tbody>\n",
              "</table>\n",
              "</div>\n",
              "    <div class=\"colab-df-buttons\">\n",
              "\n",
              "  <div class=\"colab-df-container\">\n",
              "    <button class=\"colab-df-convert\" onclick=\"convertToInteractive('df-e674a06c-b1ff-478d-a0ba-f8e9beb42127')\"\n",
              "            title=\"Convert this dataframe to an interactive table.\"\n",
              "            style=\"display:none;\">\n",
              "\n",
              "  <svg xmlns=\"http://www.w3.org/2000/svg\" height=\"24px\" viewBox=\"0 -960 960 960\">\n",
              "    <path d=\"M120-120v-720h720v720H120Zm60-500h600v-160H180v160Zm220 220h160v-160H400v160Zm0 220h160v-160H400v160ZM180-400h160v-160H180v160Zm440 0h160v-160H620v160ZM180-180h160v-160H180v160Zm440 0h160v-160H620v160Z\"/>\n",
              "  </svg>\n",
              "    </button>\n",
              "\n",
              "  <style>\n",
              "    .colab-df-container {\n",
              "      display:flex;\n",
              "      gap: 12px;\n",
              "    }\n",
              "\n",
              "    .colab-df-convert {\n",
              "      background-color: #E8F0FE;\n",
              "      border: none;\n",
              "      border-radius: 50%;\n",
              "      cursor: pointer;\n",
              "      display: none;\n",
              "      fill: #1967D2;\n",
              "      height: 32px;\n",
              "      padding: 0 0 0 0;\n",
              "      width: 32px;\n",
              "    }\n",
              "\n",
              "    .colab-df-convert:hover {\n",
              "      background-color: #E2EBFA;\n",
              "      box-shadow: 0px 1px 2px rgba(60, 64, 67, 0.3), 0px 1px 3px 1px rgba(60, 64, 67, 0.15);\n",
              "      fill: #174EA6;\n",
              "    }\n",
              "\n",
              "    .colab-df-buttons div {\n",
              "      margin-bottom: 4px;\n",
              "    }\n",
              "\n",
              "    [theme=dark] .colab-df-convert {\n",
              "      background-color: #3B4455;\n",
              "      fill: #D2E3FC;\n",
              "    }\n",
              "\n",
              "    [theme=dark] .colab-df-convert:hover {\n",
              "      background-color: #434B5C;\n",
              "      box-shadow: 0px 1px 3px 1px rgba(0, 0, 0, 0.15);\n",
              "      filter: drop-shadow(0px 1px 2px rgba(0, 0, 0, 0.3));\n",
              "      fill: #FFFFFF;\n",
              "    }\n",
              "  </style>\n",
              "\n",
              "    <script>\n",
              "      const buttonEl =\n",
              "        document.querySelector('#df-e674a06c-b1ff-478d-a0ba-f8e9beb42127 button.colab-df-convert');\n",
              "      buttonEl.style.display =\n",
              "        google.colab.kernel.accessAllowed ? 'block' : 'none';\n",
              "\n",
              "      async function convertToInteractive(key) {\n",
              "        const element = document.querySelector('#df-e674a06c-b1ff-478d-a0ba-f8e9beb42127');\n",
              "        const dataTable =\n",
              "          await google.colab.kernel.invokeFunction('convertToInteractive',\n",
              "                                                    [key], {});\n",
              "        if (!dataTable) return;\n",
              "\n",
              "        const docLinkHtml = 'Like what you see? Visit the ' +\n",
              "          '<a target=\"_blank\" href=https://colab.research.google.com/notebooks/data_table.ipynb>data table notebook</a>'\n",
              "          + ' to learn more about interactive tables.';\n",
              "        element.innerHTML = '';\n",
              "        dataTable['output_type'] = 'display_data';\n",
              "        await google.colab.output.renderOutput(dataTable, element);\n",
              "        const docLink = document.createElement('div');\n",
              "        docLink.innerHTML = docLinkHtml;\n",
              "        element.appendChild(docLink);\n",
              "      }\n",
              "    </script>\n",
              "  </div>\n",
              "\n",
              "\n",
              "    <div id=\"df-c0c636a7-6328-4c33-9d46-7a33ea9f77b3\">\n",
              "      <button class=\"colab-df-quickchart\" onclick=\"quickchart('df-c0c636a7-6328-4c33-9d46-7a33ea9f77b3')\"\n",
              "                title=\"Suggest charts\"\n",
              "                style=\"display:none;\">\n",
              "\n",
              "<svg xmlns=\"http://www.w3.org/2000/svg\" height=\"24px\"viewBox=\"0 0 24 24\"\n",
              "     width=\"24px\">\n",
              "    <g>\n",
              "        <path d=\"M19 3H5c-1.1 0-2 .9-2 2v14c0 1.1.9 2 2 2h14c1.1 0 2-.9 2-2V5c0-1.1-.9-2-2-2zM9 17H7v-7h2v7zm4 0h-2V7h2v10zm4 0h-2v-4h2v4z\"/>\n",
              "    </g>\n",
              "</svg>\n",
              "      </button>\n",
              "\n",
              "<style>\n",
              "  .colab-df-quickchart {\n",
              "      --bg-color: #E8F0FE;\n",
              "      --fill-color: #1967D2;\n",
              "      --hover-bg-color: #E2EBFA;\n",
              "      --hover-fill-color: #174EA6;\n",
              "      --disabled-fill-color: #AAA;\n",
              "      --disabled-bg-color: #DDD;\n",
              "  }\n",
              "\n",
              "  [theme=dark] .colab-df-quickchart {\n",
              "      --bg-color: #3B4455;\n",
              "      --fill-color: #D2E3FC;\n",
              "      --hover-bg-color: #434B5C;\n",
              "      --hover-fill-color: #FFFFFF;\n",
              "      --disabled-bg-color: #3B4455;\n",
              "      --disabled-fill-color: #666;\n",
              "  }\n",
              "\n",
              "  .colab-df-quickchart {\n",
              "    background-color: var(--bg-color);\n",
              "    border: none;\n",
              "    border-radius: 50%;\n",
              "    cursor: pointer;\n",
              "    display: none;\n",
              "    fill: var(--fill-color);\n",
              "    height: 32px;\n",
              "    padding: 0;\n",
              "    width: 32px;\n",
              "  }\n",
              "\n",
              "  .colab-df-quickchart:hover {\n",
              "    background-color: var(--hover-bg-color);\n",
              "    box-shadow: 0 1px 2px rgba(60, 64, 67, 0.3), 0 1px 3px 1px rgba(60, 64, 67, 0.15);\n",
              "    fill: var(--button-hover-fill-color);\n",
              "  }\n",
              "\n",
              "  .colab-df-quickchart-complete:disabled,\n",
              "  .colab-df-quickchart-complete:disabled:hover {\n",
              "    background-color: var(--disabled-bg-color);\n",
              "    fill: var(--disabled-fill-color);\n",
              "    box-shadow: none;\n",
              "  }\n",
              "\n",
              "  .colab-df-spinner {\n",
              "    border: 2px solid var(--fill-color);\n",
              "    border-color: transparent;\n",
              "    border-bottom-color: var(--fill-color);\n",
              "    animation:\n",
              "      spin 1s steps(1) infinite;\n",
              "  }\n",
              "\n",
              "  @keyframes spin {\n",
              "    0% {\n",
              "      border-color: transparent;\n",
              "      border-bottom-color: var(--fill-color);\n",
              "      border-left-color: var(--fill-color);\n",
              "    }\n",
              "    20% {\n",
              "      border-color: transparent;\n",
              "      border-left-color: var(--fill-color);\n",
              "      border-top-color: var(--fill-color);\n",
              "    }\n",
              "    30% {\n",
              "      border-color: transparent;\n",
              "      border-left-color: var(--fill-color);\n",
              "      border-top-color: var(--fill-color);\n",
              "      border-right-color: var(--fill-color);\n",
              "    }\n",
              "    40% {\n",
              "      border-color: transparent;\n",
              "      border-right-color: var(--fill-color);\n",
              "      border-top-color: var(--fill-color);\n",
              "    }\n",
              "    60% {\n",
              "      border-color: transparent;\n",
              "      border-right-color: var(--fill-color);\n",
              "    }\n",
              "    80% {\n",
              "      border-color: transparent;\n",
              "      border-right-color: var(--fill-color);\n",
              "      border-bottom-color: var(--fill-color);\n",
              "    }\n",
              "    90% {\n",
              "      border-color: transparent;\n",
              "      border-bottom-color: var(--fill-color);\n",
              "    }\n",
              "  }\n",
              "</style>\n",
              "\n",
              "      <script>\n",
              "        async function quickchart(key) {\n",
              "          const quickchartButtonEl =\n",
              "            document.querySelector('#' + key + ' button');\n",
              "          quickchartButtonEl.disabled = true;  // To prevent multiple clicks.\n",
              "          quickchartButtonEl.classList.add('colab-df-spinner');\n",
              "          try {\n",
              "            const charts = await google.colab.kernel.invokeFunction(\n",
              "                'suggestCharts', [key], {});\n",
              "          } catch (error) {\n",
              "            console.error('Error during call to suggestCharts:', error);\n",
              "          }\n",
              "          quickchartButtonEl.classList.remove('colab-df-spinner');\n",
              "          quickchartButtonEl.classList.add('colab-df-quickchart-complete');\n",
              "        }\n",
              "        (() => {\n",
              "          let quickchartButtonEl =\n",
              "            document.querySelector('#df-c0c636a7-6328-4c33-9d46-7a33ea9f77b3 button');\n",
              "          quickchartButtonEl.style.display =\n",
              "            google.colab.kernel.accessAllowed ? 'block' : 'none';\n",
              "        })();\n",
              "      </script>\n",
              "    </div>\n",
              "\n",
              "    </div>\n",
              "  </div>\n"
            ],
            "application/vnd.google.colaboratory.intrinsic+json": {
              "type": "dataframe",
              "summary": "{\n  \"name\": \"display(segment_summary[1:10])\",\n  \"rows\": 9,\n  \"fields\": [\n    {\n      \"column\": \"customer_sub_trade_channel_description\",\n      \"properties\": {\n        \"dtype\": \"string\",\n        \"num_unique_values\": 9,\n        \"samples\": [\n          \"Sports Arena\",\n          \"Wholesaler\",\n          \"Religious Institution\"\n        ],\n        \"semantic_type\": \"\",\n        \"description\": \"\"\n      }\n    },\n    {\n      \"column\": \"count\",\n      \"properties\": {\n        \"dtype\": \"number\",\n        \"std\": 32593,\n        \"min\": 4,\n        \"max\": 99166,\n        \"num_unique_values\": 9,\n        \"samples\": [\n          2876,\n          5027,\n          1576\n        ],\n        \"semantic_type\": \"\",\n        \"description\": \"\"\n      }\n    },\n    {\n      \"column\": \"sum\",\n      \"properties\": {\n        \"dtype\": \"number\",\n        \"std\": 4507144.880850974,\n        \"min\": 606.37,\n        \"max\": 13789592.92,\n        \"num_unique_values\": 9,\n        \"samples\": [\n          386355.84,\n          1894745.94,\n          219422.35\n        ],\n        \"semantic_type\": \"\",\n        \"description\": \"\"\n      }\n    },\n    {\n      \"column\": \"mean\",\n      \"properties\": {\n        \"dtype\": \"number\",\n        \"std\": 142.84904660744013,\n        \"min\": 125.71945295404814,\n        \"max\": 528.97,\n        \"num_unique_values\": 9,\n        \"samples\": [\n          134.3379137691238,\n          376.91385319275906,\n          139.22737944162438\n        ],\n        \"semantic_type\": \"\",\n        \"description\": \"\"\n      }\n    }\n  ]\n}"
            }
          },
          "metadata": {}
        }
      ]
    },
    {
      "cell_type": "markdown",
      "source": [
        "When we look at average profits, we see distributors jump to the #1 spot."
      ],
      "metadata": {
        "id": "S3UVF4PocYB1"
      },
      "id": "S3UVF4PocYB1"
    },
    {
      "cell_type": "markdown",
      "source": [
        "This table gives us a good sense of our customer base. Once we define an abondaned cart, we will be able to use the descriptive variables in this table to help us build a profile around what kind of customer will abandoned their cart."
      ],
      "metadata": {
        "id": "OqcKtsKVcduD"
      },
      "id": "OqcKtsKVcduD"
    },
    {
      "cell_type": "markdown",
      "source": [
        "# Visit Plan\n",
        "\n",
        "This dimension table describes visit plans. A visit plan is on which day of the week and how often a customer is scheduled to place an order. These visit plans do change. This table gives us the historical visit plans for each customer. The day of the week of the anchor date is the customer’s day they must order by."
      ],
      "metadata": {
        "id": "f7hFIL_YhzuO"
      },
      "id": "f7hFIL_YhzuO"
    },
    {
      "cell_type": "code",
      "source": [
        "# read visit plan data into a dataframe\n",
        "visit_plan = pd.read_csv(f'{data_location}/visit_plan.csv', dtype={'FREQUENCY':'string'})\n",
        "\n",
        "visit_plan.head()"
      ],
      "metadata": {
        "id": "g6JLcrsdiRI7"
      },
      "id": "g6JLcrsdiRI7",
      "execution_count": null,
      "outputs": []
    },
    {
      "cell_type": "markdown",
      "source": [
        "Let's first examine the datatypes, structure, and missingness of each column."
      ],
      "metadata": {
        "id": "mFCnBmaQHMF_"
      },
      "id": "mFCnBmaQHMF_"
    },
    {
      "cell_type": "code",
      "source": [
        "structure_nulls(visit_plan)"
      ],
      "metadata": {
        "id": "10igsoNEluBo"
      },
      "id": "10igsoNEluBo",
      "execution_count": null,
      "outputs": []
    },
    {
      "cell_type": "code",
      "source": [
        "visit_plan.dtypes"
      ],
      "metadata": {
        "id": "88QmMXQ-HHs2"
      },
      "id": "88QmMXQ-HHs2",
      "execution_count": null,
      "outputs": []
    },
    {
      "cell_type": "markdown",
      "source": [
        "Interestingly, there are many null values in the frequency column, which will be important to our analysis.\n",
        "\n",
        "Let's explore the frequency column more in depth so we can calculate cutoff datetimes later on."
      ],
      "metadata": {
        "id": "ZInf0_JxpgDS"
      },
      "id": "ZInf0_JxpgDS"
    },
    {
      "cell_type": "code",
      "source": [
        "visit_plan['FREQUENCY'].value_counts(dropna=False)"
      ],
      "metadata": {
        "id": "CNm5NhQdF7DY"
      },
      "id": "CNm5NhQdF7DY",
      "execution_count": null,
      "outputs": []
    },
    {
      "cell_type": "markdown",
      "source": [
        "It looks like when the frequency column has a description like \"Every {n}th week\" the frequency will just be n. To calculate the cutoff dates, we'll need to create a mapping table then apply the mapping to the frequency table.\n",
        "\n",
        "If the frequency is \"not applicable\" we wont be able to calculate the cutoff times for carts.\n",
        "\n",
        "### Exploring where frequency is not applicable"
      ],
      "metadata": {
        "id": "793oSAh9IwUD"
      },
      "id": "793oSAh9IwUD"
    },
    {
      "cell_type": "code",
      "source": [
        "visit_plan[visit_plan['FREQUENCY'] == \"Not Applicable\"].describe(exclude='number')"
      ],
      "metadata": {
        "id": "ecFEst-fQCGa"
      },
      "id": "ecFEst-fQCGa",
      "execution_count": null,
      "outputs": []
    },
    {
      "cell_type": "code",
      "source": [
        "# find which customer ids have \"not applicable\" as a frequency and see if they have any other values of frequency\n",
        "visit_plan[visit_plan['FREQUENCY'] == \"Not Applicable\"]['CUSTOMER_ID'].value_counts()"
      ],
      "metadata": {
        "id": "Lw3XgVFQH-dS"
      },
      "id": "Lw3XgVFQH-dS",
      "execution_count": null,
      "outputs": []
    },
    {
      "cell_type": "markdown",
      "source": [
        "It seems there are only two customers where the frequency is not applicable. do these customers bring in a lot of profit?"
      ],
      "metadata": {
        "id": "zmXgMEJeRW2L"
      },
      "id": "zmXgMEJeRW2L"
    },
    {
      "cell_type": "code",
      "source": [
        "# find how much these customers contribute to total profits.\n",
        "sum(\n",
        "    sales[sales['CUSTOMER_ID'].isin([600565083, 500714888])]['NSI_DEAD_NET']\n",
        ")/sum(sales['NSI_DEAD_NET']) * 100"
      ],
      "metadata": {
        "id": "Pg-g_ocxL2-O"
      },
      "id": "Pg-g_ocxL2-O",
      "execution_count": null,
      "outputs": []
    },
    {
      "cell_type": "markdown",
      "source": [
        "These two customers make up less than 0.003% of net profit, so there shouldn't be any issue in removing these customers from our analysis.\n",
        "\n",
        "Now, let's explore where the frequency is null.\n",
        "\n",
        "### Exploring where frequendy is null"
      ],
      "metadata": {
        "id": "MBYPncysS910"
      },
      "id": "MBYPncysS910"
    },
    {
      "cell_type": "code",
      "source": [
        "visit_plan[visit_plan['FREQUENCY'].isnull()].describe(exclude='number')"
      ],
      "metadata": {
        "id": "EB7lJc1MTjRQ"
      },
      "id": "EB7lJc1MTjRQ",
      "execution_count": null,
      "outputs": []
    },
    {
      "cell_type": "code",
      "source": [
        "# find which customer ids have null frequency\n",
        "visit_plan[visit_plan['FREQUENCY'].isnull()]['CUSTOMER_ID'].value_counts()"
      ],
      "metadata": {
        "id": "bhQ6ob8XUFrq"
      },
      "id": "bhQ6ob8XUFrq",
      "execution_count": null,
      "outputs": []
    },
    {
      "cell_type": "markdown",
      "source": [
        "Let's see if the Operating hours table has the information we need"
      ],
      "metadata": {
        "id": "3UzOvQgpXdbF"
      },
      "id": "3UzOvQgpXdbF"
    },
    {
      "cell_type": "code",
      "source": [
        "# join to operating_hours to see which customers still doon't have a frequency\n",
        "full = visit_plan[visit_plan['FREQUENCY'].isnull()].merge(\n",
        "    operating_hours,\n",
        "    left_on='CUSTOMER_ID',\n",
        "    right_on='CUSTOMER_NUMBER',\n",
        "    how='left'\n",
        ")\n",
        "full.head()"
      ],
      "metadata": {
        "id": "bZ60WHzwadVn"
      },
      "id": "bZ60WHzwadVn",
      "execution_count": null,
      "outputs": []
    },
    {
      "cell_type": "code",
      "source": [
        "structure_nulls(full)\n"
      ],
      "metadata": {
        "id": "B6rBUunOdaFW"
      },
      "id": "B6rBUunOdaFW",
      "execution_count": null,
      "outputs": []
    },
    {
      "cell_type": "markdown",
      "source": [
        "There *is* more information on order frequency in the operating hours table. While this information may not be perfect, its better than nothing.\n",
        "\n",
        "Let's see which of these customers still don't have any visit plan information:"
      ],
      "metadata": {
        "id": "aDdWjs8-f0cs"
      },
      "id": "aDdWjs8-f0cs"
    },
    {
      "cell_type": "code",
      "source": [
        "# find which customers still don't have any frequency information in the joined data\n",
        "full[full['FREQUENCY_y'].isnull()]['CUSTOMER_ID'].unique()"
      ],
      "metadata": {
        "id": "ZCZvdAfTeu2h"
      },
      "id": "ZCZvdAfTeu2h",
      "execution_count": null,
      "outputs": []
    },
    {
      "cell_type": "markdown",
      "source": [
        "There are 11 customers where we have no visit plan information. Let's see how much revenue these customers bring in."
      ],
      "metadata": {
        "id": "E5AC0NdPfRK1"
      },
      "id": "E5AC0NdPfRK1"
    },
    {
      "cell_type": "code",
      "source": [
        "# determine the percentage of sales that these customers contribute\n",
        "sales[sales['CUSTOMER_ID'].isin(\n",
        "    full[full['FREQUENCY_y'].isnull()]['CUSTOMER_ID'].unique()\n",
        "    )]['NSI_DEAD_NET'].sum() / sum(sales['NSI_DEAD_NET']) * 100"
      ],
      "metadata": {
        "id": "kjBYPnp5fQlw"
      },
      "id": "kjBYPnp5fQlw",
      "execution_count": null,
      "outputs": []
    },
    {
      "cell_type": "markdown",
      "source": [
        "These customers make up less than 0.07% of profit, so we can probably exclude these customers as well.\n",
        "\n",
        "### Dropping customers with no visit plans and filling null frequencies and anchor dates."
      ],
      "metadata": {
        "id": "4jjWwOG0f6sw"
      },
      "id": "4jjWwOG0f6sw"
    },
    {
      "cell_type": "code",
      "source": [
        "# define list of customer id's to exclude\n",
        "cust_exclude = [\n",
        "    600565083, 500714888, 501652104, 501653011, 500312987, 501226870, 500995978, 501654391, 501585173, 501297027, 501364983, 600581129, 501202498\n",
        "]\n",
        "\n",
        "# drop these customers from the visit plan table\n",
        "visit_plan = visit_plan[~visit_plan['CUSTOMER_ID'].isin(cust_exclude)]\n",
        "\n",
        "# join the visit plan with the operating hours table to get our best estimate of FREQUENCY and ANCHOR_DATE\n",
        "visit_plan = visit_plan.merge(\n",
        "    operating_hours,\n",
        "    left_on='CUSTOMER_ID',\n",
        "    right_on='CUSTOMER_NUMBER',\n",
        "    how='left'\n",
        ")\n",
        "\n",
        "# fill the null values in FREQUENCY_x and ANCHOR_DATE with the values in FREQUENCY_y and CALLING_ANCHOR_DATE\n",
        "visit_plan['FREQUENCY_x'] = visit_plan['FREQUENCY_x'].fillna(visit_plan['FREQUENCY_y'])\n",
        "visit_plan['ANCHOR_DATE'] = visit_plan['ANCHOR_DATE'].fillna(visit_plan['CALLING_ANCHOR_DATE'])\n",
        "\n",
        "# rename the FREQUENCY_x column to FREQUENCY\n",
        "visit_plan = visit_plan.rename(columns={'FREQUENCY_x': 'FREQUENCY'})\n",
        "\n",
        "# drop the remaining columns that weren't originally in the visit plan table\n",
        "visit_plan = visit_plan.drop(columns=['CUSTOMER_NUMBER', 'FREQUENCY_y', 'DELIVERY_ANCHOR_DAY', 'CALLING_ANCHOR_DATE'])\n",
        "\n",
        "structure_nulls(visit_plan)"
      ],
      "metadata": {
        "id": "s6DAlTsMjVlI"
      },
      "id": "s6DAlTsMjVlI",
      "execution_count": null,
      "outputs": []
    },
    {
      "cell_type": "markdown",
      "source": [
        "That looks much better. We can address the missing sales office/distribution modes if the need arises.\n",
        "\n",
        "### Mapping frequencies"
      ],
      "metadata": {
        "id": "2CnBE8cdw0fv"
      },
      "id": "2CnBE8cdw0fv"
    },
    {
      "cell_type": "code",
      "source": [
        "# determine which values in the frequency column need to be mapped to integers\n",
        "visit_plan['FREQUENCY'].unique()"
      ],
      "metadata": {
        "id": "6Em9gpIJxuRr"
      },
      "id": "6Em9gpIJxuRr",
      "execution_count": null,
      "outputs": []
    },
    {
      "cell_type": "code",
      "source": [
        "# map values in the frequency column to integers so we can calculate whether carts are abandoned.\n",
        "frequency_mapping = {\n",
        "     '02':2, '01':1, '04':4, 'Every Second Week On':2,\n",
        "     'Every Week On':1, 'Every Fourth Week On':4,\n",
        "     'Every Third Week On':3, 'Every Tenth Week On':10, '03':3,\n",
        "     'Every Fifth Week On':5, 'Every Eighth Week On':8,\n",
        "     'Every 4 Weeks':4, 'Every Sixth Week On':6, 'Every 2 Weeks':2,\n",
        "     'Every Week':1, '1 ':1, '2 ':2, '4 ':4, '3 ':3, '10':10, '05':5,\n",
        "     '5 ':5, '8 ':8, '08':8, '06':6\n",
        "}\n",
        "\n",
        "visit_plan['FREQUENCY'] = visit_plan['FREQUENCY'].map(frequency_mapping)\n",
        "\n",
        "visit_plan['FREQUENCY'].value_counts(dropna=False)"
      ],
      "metadata": {
        "id": "8DUBq3o31Ksv"
      },
      "id": "8DUBq3o31Ksv",
      "execution_count": null,
      "outputs": []
    },
    {
      "cell_type": "markdown",
      "source": [
        "We can see that weekly frequencies are most common, followed by bi-weekly frequencies."
      ],
      "metadata": {
        "id": "TUb2Ene9JgFD"
      },
      "id": "TUb2Ene9JgFD"
    },
    {
      "cell_type": "markdown",
      "source": [
        "# Order Cut Off Times\n",
        "\n",
        "Each sales office has a specific time of day its\n",
        "customers must have their order in by. The\n",
        "default time is 5pm but there are exceptions.\n",
        "This table lists all the exceptions. Use sales\n",
        "office, shipping conditions and distribution\n",
        "mode to join to visit plan table"
      ],
      "metadata": {
        "id": "kpPh1mmss-j8"
      },
      "id": "kpPh1mmss-j8"
    },
    {
      "cell_type": "code",
      "source": [
        "# read in cutoff times data into a pandas dataframe\n",
        "cutoff_times = pd.read_csv(f'{data_location}/cutoff_times.csv')\n",
        "\n",
        "cutoff_times.head()"
      ],
      "metadata": {
        "id": "gqEhqYR-tOzM",
        "colab": {
          "base_uri": "https://localhost:8080/",
          "height": 193
        },
        "outputId": "214309d5-4f0e-469f-9620-512561ceb40b"
      },
      "id": "gqEhqYR-tOzM",
      "execution_count": 3,
      "outputs": [
        {
          "output_type": "error",
          "ename": "NameError",
          "evalue": "name 'data_location' is not defined",
          "traceback": [
            "\u001b[0;31m---------------------------------------------------------------------------\u001b[0m",
            "\u001b[0;31mNameError\u001b[0m                                 Traceback (most recent call last)",
            "\u001b[0;32m/tmp/ipython-input-3065898377.py\u001b[0m in \u001b[0;36m<cell line: 0>\u001b[0;34m()\u001b[0m\n\u001b[1;32m      1\u001b[0m \u001b[0;31m# read in cutoff times data into a pandas dataframe\u001b[0m\u001b[0;34m\u001b[0m\u001b[0;34m\u001b[0m\u001b[0m\n\u001b[0;32m----> 2\u001b[0;31m \u001b[0mcutoff_times\u001b[0m \u001b[0;34m=\u001b[0m \u001b[0mpd\u001b[0m\u001b[0;34m.\u001b[0m\u001b[0mread_csv\u001b[0m\u001b[0;34m(\u001b[0m\u001b[0;34mf'{data_location}/cutoff_times.csv'\u001b[0m\u001b[0;34m)\u001b[0m\u001b[0;34m\u001b[0m\u001b[0;34m\u001b[0m\u001b[0m\n\u001b[0m\u001b[1;32m      3\u001b[0m \u001b[0;34m\u001b[0m\u001b[0m\n\u001b[1;32m      4\u001b[0m \u001b[0mcutoff_times\u001b[0m\u001b[0;34m.\u001b[0m\u001b[0mhead\u001b[0m\u001b[0;34m(\u001b[0m\u001b[0;34m)\u001b[0m\u001b[0;34m\u001b[0m\u001b[0;34m\u001b[0m\u001b[0m\n",
            "\u001b[0;31mNameError\u001b[0m: name 'data_location' is not defined"
          ]
        }
      ]
    },
    {
      "cell_type": "code",
      "source": [
        "# show the structure and missingness of the data\n",
        "structure_nulls(cutoff_times)"
      ],
      "metadata": {
        "id": "tiMff2fGtYFT"
      },
      "id": "tiMff2fGtYFT",
      "execution_count": null,
      "outputs": []
    },
    {
      "cell_type": "code",
      "source": [
        "# number of rows and columns\n",
        "print(\"Shape of the dataset:\", cutoff_times.shape)\n",
        "print(f\"Number of rows: {cutoff_times.shape[0]}\")\n",
        "print(f\"Number of columns: {cutoff_times.shape[1]}\")"
      ],
      "metadata": {
        "id": "YxHNctztp-Kf"
      },
      "id": "YxHNctztp-Kf",
      "execution_count": null,
      "outputs": []
    },
    {
      "cell_type": "code",
      "source": [
        "# data types of each column\n",
        "print(\"\\nData types of each column:\")\n",
        "print(cutoff_times.dtypes)"
      ],
      "metadata": {
        "id": "pw-_z3isqDxD"
      },
      "id": "pw-_z3isqDxD",
      "execution_count": null,
      "outputs": []
    },
    {
      "cell_type": "code",
      "source": [
        "# describing the data (summary stats)\n",
        "cutoff_times.describe(include='all').transpose()"
      ],
      "metadata": {
        "id": "Lswm4NQSqGwW"
      },
      "id": "Lswm4NQSqGwW",
      "execution_count": null,
      "outputs": []
    },
    {
      "cell_type": "code",
      "source": [
        "# datatype and non-null count info\n",
        "cutoff_times.info()"
      ],
      "metadata": {
        "id": "-VeAdrtYqIaE"
      },
      "id": "-VeAdrtYqIaE",
      "execution_count": null,
      "outputs": []
    },
    {
      "cell_type": "code",
      "source": [
        "# parse times (assuming they're in local time, e.g., US/Mountain)\n",
        "cutoff_times['CUTOFFTIME__C'] = pd.to_datetime(cutoff_times['CUTOFFTIME__C'], format='%I:%M:%S %p')\n",
        "\n",
        "# add a date to make them valid datetimes (optional, if needed)\n",
        "cutoff_times['CUTOFFTIME__C'] = cutoff_times['CUTOFFTIME__C'].apply(lambda x: x.replace(year=2025, month=1, day=1))\n",
        "\n",
        "# localize to Mountain Time (for Draper, UT) and convert to UTC\n",
        "cutoff_times['CUTOFFTIME_UTC'] = (\n",
        "    cutoff_times['CUTOFFTIME__C']\n",
        "    .dt.tz_localize('US/Mountain', ambiguous='NaT')\n",
        "    .dt.tz_convert('UTC')\n",
        ")\n",
        "\n",
        "print(cutoff_times[['CUTOFFTIME__C', 'CUTOFFTIME_UTC']])"
      ],
      "metadata": {
        "id": "-dczlH73qirv"
      },
      "id": "-dczlH73qirv",
      "execution_count": null,
      "outputs": []
    },
    {
      "cell_type": "code",
      "source": [
        "# double check data\n",
        "cutoff_times.head()"
      ],
      "metadata": {
        "id": "FCCr8fTAqk4R"
      },
      "id": "FCCr8fTAqk4R",
      "execution_count": null,
      "outputs": []
    },
    {
      "cell_type": "code",
      "source": [
        "# distribution of cutoff times (in UTC)\n",
        "plt.figure(figsize=(10,5))\n",
        "sb.histplot(cutoff_times['CUTOFFTIME_UTC'].dt.hour, bins=24, kde=True, color='skyblue')\n",
        "plt.title(\"Distribution of Cutoff Times (by Hour, UTC)\")\n",
        "plt.xlabel(\"Hour of Day (UTC)\")\n",
        "plt.ylabel(\"Number of Plants/Sales Offices\")\n",
        "plt.show()"
      ],
      "metadata": {
        "id": "wmicaAOPqmY_"
      },
      "id": "wmicaAOPqmY_",
      "execution_count": null,
      "outputs": []
    },
    {
      "cell_type": "code",
      "source": [
        "# average cutoff time by sales office\n",
        "\n",
        "# convert cutoff times to hours for easier averaging\n",
        "cutoff_times['CUTOFF_HOUR_UTC'] = cutoff_times['CUTOFFTIME_UTC'].dt.hour + cutoff_times['CUTOFFTIME_UTC'].dt.minute/60\n",
        "\n",
        "avg_cutoff_by_office = cutoff_times.groupby('SALES_OFFICE')['CUTOFF_HOUR_UTC'].mean().sort_values()\n",
        "\n",
        "plt.figure(figsize=(10,6))\n",
        "sb.barplot(x=avg_cutoff_by_office.values, y=avg_cutoff_by_office.index, palette='coolwarm')\n",
        "plt.title(\"Average Cutoff Time by Sales Office (UTC Hours)\")\n",
        "plt.xlabel(\"Average Cutoff Hour (UTC)\")\n",
        "plt.ylabel(\"Sales Office\")\n",
        "plt.show()"
      ],
      "metadata": {
        "id": "BZKKqdMPqq8E"
      },
      "id": "BZKKqdMPqq8E",
      "execution_count": null,
      "outputs": []
    },
    {
      "cell_type": "markdown",
      "source": [
        "### Summary of Cutoff"
      ],
      "metadata": {
        "id": "CzBacwqrqelq"
      },
      "id": "CzBacwqrqelq"
    },
    {
      "cell_type": "markdown",
      "source": [
        "The dataset contains 220 records with 17 unique cutoff times, indicating varying order processing deadlines across sales offices and plants. The most common cutoff time is 3:00 PM, occurring 36 times, suggesting it may serve as the company’s standard or default shipping deadline. These variations in cutoff times likely reflect operational differences between locations or distribution modes, helping ensure timely deliveries based on regional schedules and logistics capacities. The first graph shows that the distribution of cutoff time is skewed towards the end of the day. This makes sense as the most cutoff times are from the range of 15:00-23:00. The second graph indicates that Logan, UT has the shortest cutoff time while Prescott, AZ has that longest cutoff time."
      ],
      "metadata": {
        "id": "37QzVPcjqbuB"
      },
      "id": "37QzVPcjqbuB"
    },
    {
      "cell_type": "code",
      "source": [],
      "metadata": {
        "id": "5r1ZTenoqLi6"
      },
      "id": "5r1ZTenoqLi6",
      "execution_count": null,
      "outputs": []
    },
    {
      "cell_type": "code",
      "source": [],
      "metadata": {
        "id": "pzgprdVfqWMz"
      },
      "id": "pzgprdVfqWMz",
      "execution_count": null,
      "outputs": []
    },
    {
      "cell_type": "markdown",
      "source": [],
      "metadata": {
        "id": "VhKYGX88tgQX"
      },
      "id": "VhKYGX88tgQX"
    },
    {
      "cell_type": "markdown",
      "source": [
        "# Operating Hours\n",
        "\n",
        "This table has similar information as the visit\n",
        "plan table, but it has the current information\n",
        "for the customers."
      ],
      "metadata": {
        "id": "FO6QgKrstigD"
      },
      "id": "FO6QgKrstigD"
    },
    {
      "cell_type": "code",
      "source": [
        "# read in operating hours to a pandas dataframe\n",
        "operating_hours = pd.read_csv(f'{data_location}/operating_hours.csv')\n",
        "\n",
        "operating_hours.head()"
      ],
      "metadata": {
        "id": "8lIZGCrAtdyr"
      },
      "id": "8lIZGCrAtdyr",
      "execution_count": null,
      "outputs": []
    },
    {
      "cell_type": "code",
      "source": [
        "# show the structure and missingness of the data\n",
        "structure_nulls(operating_hours)"
      ],
      "metadata": {
        "id": "MXt00vgZt9aX"
      },
      "id": "MXt00vgZt9aX",
      "execution_count": null,
      "outputs": []
    },
    {
      "cell_type": "code",
      "source": [
        "operating_hours['CALLING_ANCHOR_DATE'].describe()"
      ],
      "metadata": {
        "id": "_cYF8CV8YdT9"
      },
      "id": "_cYF8CV8YdT9",
      "execution_count": null,
      "outputs": []
    },
    {
      "cell_type": "markdown",
      "source": [
        "# Material\n",
        "\n",
        "This table gives us specific information on\n",
        "products. For each material id we have the\n",
        "category, brand, flavor, pack size & type."
      ],
      "metadata": {
        "id": "ZF-HG_MGuH1L"
      },
      "id": "ZF-HG_MGuH1L"
    },
    {
      "cell_type": "code",
      "source": [
        "# read in material data to a pandas dataframe\n",
        "material = pd.read_csv(f'{data_location}/material.csv')\n",
        "\n",
        "material.head()"
      ],
      "metadata": {
        "id": "h7t36gFcuSl4"
      },
      "id": "h7t36gFcuSl4",
      "execution_count": null,
      "outputs": []
    },
    {
      "cell_type": "code",
      "source": [
        "# show structure and missingness of data\n",
        "structure_nulls(material)"
      ],
      "metadata": {
        "id": "1PoSKyi8ub38"
      },
      "id": "1PoSKyi8ub38",
      "execution_count": null,
      "outputs": []
    },
    {
      "cell_type": "code",
      "source": [
        "print(list(material[material['BEV_CAT_DESC'].isnull()]['TRADE_MARK_DESC'].unique()))\n",
        "\n",
        "print(list(material[material['TRADE_MARK_DESC'] == 'Sunny Sip']['BEV_CAT_DESC'].value_counts()))"
      ],
      "metadata": {
        "id": "WUGtVLGEumt6"
      },
      "id": "WUGtVLGEumt6",
      "execution_count": null,
      "outputs": []
    },
    {
      "cell_type": "markdown",
      "source": [
        "The null `BEV_CAT_DESC` values seem to be Sunny Sip products, and all Sunny Sip products have null `BEV_CAT_DESC`.\n",
        "\n",
        "This table will be valuable when analyzing what products may be more likely to appear in abandoned shopping carts."
      ],
      "metadata": {
        "id": "KGWcn1H7vb8f"
      },
      "id": "KGWcn1H7vb8f"
    },
    {
      "cell_type": "code",
      "source": [],
      "metadata": {
        "id": "9Qamp9E81kFh"
      },
      "id": "9Qamp9E81kFh",
      "execution_count": null,
      "outputs": []
    }
  ],
  "metadata": {
    "kernelspec": {
      "display_name": "Python [conda env:base] *",
      "language": "python",
      "name": "conda-base-py"
    },
    "language_info": {
      "codemirror_mode": {
        "name": "ipython",
        "version": 3
      },
      "file_extension": ".py",
      "mimetype": "text/x-python",
      "name": "python",
      "nbconvert_exporter": "python",
      "pygments_lexer": "ipython3",
      "version": "3.12.7"
    },
    "colab": {
      "provenance": [],
      "include_colab_link": true
    }
  },
  "nbformat": 4,
  "nbformat_minor": 5
}